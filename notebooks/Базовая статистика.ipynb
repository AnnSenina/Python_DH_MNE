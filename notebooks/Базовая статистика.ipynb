{
  "nbformat": 4,
  "nbformat_minor": 0,
  "metadata": {
    "colab": {
      "provenance": [],
      "include_colab_link": true
    },
    "kernelspec": {
      "name": "python3",
      "display_name": "Python 3"
    },
    "language_info": {
      "name": "python"
    }
  },
  "cells": [
    {
      "cell_type": "markdown",
      "metadata": {
        "id": "view-in-github",
        "colab_type": "text"
      },
      "source": [
        "<a href=\"https://colab.research.google.com/github/AnnSenina/Python_DH_MNE/blob/main/notebooks/%D0%91%D0%B0%D0%B7%D0%BE%D0%B2%D0%B0%D1%8F%20%D1%81%D1%82%D0%B0%D1%82%D0%B8%D1%81%D1%82%D0%B8%D0%BA%D0%B0.ipynb\" target=\"_parent\"><img src=\"https://colab.research.google.com/assets/colab-badge.svg\" alt=\"Open In Colab\"/></a>"
      ]
    },
    {
      "cell_type": "markdown",
      "source": [
        "# Базовая статистика"
      ],
      "metadata": {
        "id": "qo3fBrHvDiqR"
      }
    },
    {
      "cell_type": "code",
      "execution_count": null,
      "metadata": {
        "id": "DZNwkPGyDdL2"
      },
      "outputs": [],
      "source": [
        "# таблички\n",
        "import pandas as pd\n",
        "\n",
        "# статистика\n",
        "import numpy as np\n",
        "import scipy.stats as stats\n",
        "from scipy.stats.contingency import association\n",
        "\n",
        "# графика\n",
        "import matplotlib.pyplot as plt\n",
        "import seaborn as sns"
      ]
    },
    {
      "cell_type": "code",
      "source": [
        "df = pd.read_csv('https://raw.githubusercontent.com/AnnSenina/Python_DH_2023/main/data/BikeDataVar.csv')\n",
        "df"
      ],
      "metadata": {
        "id": "f2PzFS0REJke",
        "colab": {
          "base_uri": "https://localhost:8080/",
          "height": 678
        },
        "outputId": "bac41c74-b19a-44f5-f6b1-93df82b95abe"
      },
      "execution_count": null,
      "outputs": [
        {
          "output_type": "execute_result",
          "data": {
            "text/plain": [
              "      Unnamed: 0        Date  Hour  Temperature  Humidity  Wind speed  \\\n",
              "0              0  2017-12-01     0         -5.2        37         2.2   \n",
              "1              1  2017-12-01     1         -5.5        38         0.8   \n",
              "2              2  2017-12-01     2         -6.0        39         1.0   \n",
              "3              3  2017-12-01     3         -6.2        40         0.9   \n",
              "4              4  2017-12-01     4         -6.0        36         2.3   \n",
              "...          ...         ...   ...          ...       ...         ...   \n",
              "8755        8755  2018-11-30    19          4.2        34         2.6   \n",
              "8756        8756  2018-11-30    20          3.4        37         2.3   \n",
              "8757        8757  2018-11-30    21          2.6        39         0.3   \n",
              "8758        8758  2018-11-30    22          2.1        41         1.0   \n",
              "8759        8759  2018-11-30    23          1.9        43         1.3   \n",
              "\n",
              "      Rainfall  Snowfall Seasons  Holiday  Functioning Day  Rental Count  \\\n",
              "0          0.0       0.0  Winter        0             True           257   \n",
              "1          0.0       0.0  Winter        0             True           219   \n",
              "2          0.0       0.0  Winter        0             True           162   \n",
              "3          0.0       0.0  Winter        0             True           148   \n",
              "4          0.0       0.0  Winter        0             True            97   \n",
              "...        ...       ...     ...      ...              ...           ...   \n",
              "8755       0.0       0.0  Autumn        0             True           644   \n",
              "8756       0.0       0.0  Autumn        0             True           359   \n",
              "8757       0.0       0.0  Autumn        0             True          1236   \n",
              "8758       0.0       0.0  Autumn        0             True           628   \n",
              "8759       0.0       0.0  Autumn        0             True           843   \n",
              "\n",
              "      Normal Humidity Temperature Category  Good Weather  \n",
              "0                   0             Freezing             0  \n",
              "1                   0             Freezing             0  \n",
              "2                   0             Freezing             0  \n",
              "3                   1             Freezing             0  \n",
              "4                   0             Freezing             0  \n",
              "...               ...                  ...           ...  \n",
              "8755                0               Chilly             0  \n",
              "8756                0               Chilly             0  \n",
              "8757                0               Chilly             0  \n",
              "8758                1               Chilly             0  \n",
              "8759                1               Chilly             0  \n",
              "\n",
              "[8760 rows x 15 columns]"
            ],
            "text/html": [
              "\n",
              "  <div id=\"df-260941eb-66a9-49d3-bba3-f9e20798db97\">\n",
              "    <div class=\"colab-df-container\">\n",
              "      <div>\n",
              "<style scoped>\n",
              "    .dataframe tbody tr th:only-of-type {\n",
              "        vertical-align: middle;\n",
              "    }\n",
              "\n",
              "    .dataframe tbody tr th {\n",
              "        vertical-align: top;\n",
              "    }\n",
              "\n",
              "    .dataframe thead th {\n",
              "        text-align: right;\n",
              "    }\n",
              "</style>\n",
              "<table border=\"1\" class=\"dataframe\">\n",
              "  <thead>\n",
              "    <tr style=\"text-align: right;\">\n",
              "      <th></th>\n",
              "      <th>Unnamed: 0</th>\n",
              "      <th>Date</th>\n",
              "      <th>Hour</th>\n",
              "      <th>Temperature</th>\n",
              "      <th>Humidity</th>\n",
              "      <th>Wind speed</th>\n",
              "      <th>Rainfall</th>\n",
              "      <th>Snowfall</th>\n",
              "      <th>Seasons</th>\n",
              "      <th>Holiday</th>\n",
              "      <th>Functioning Day</th>\n",
              "      <th>Rental Count</th>\n",
              "      <th>Normal Humidity</th>\n",
              "      <th>Temperature Category</th>\n",
              "      <th>Good Weather</th>\n",
              "    </tr>\n",
              "  </thead>\n",
              "  <tbody>\n",
              "    <tr>\n",
              "      <th>0</th>\n",
              "      <td>0</td>\n",
              "      <td>2017-12-01</td>\n",
              "      <td>0</td>\n",
              "      <td>-5.2</td>\n",
              "      <td>37</td>\n",
              "      <td>2.2</td>\n",
              "      <td>0.0</td>\n",
              "      <td>0.0</td>\n",
              "      <td>Winter</td>\n",
              "      <td>0</td>\n",
              "      <td>True</td>\n",
              "      <td>257</td>\n",
              "      <td>0</td>\n",
              "      <td>Freezing</td>\n",
              "      <td>0</td>\n",
              "    </tr>\n",
              "    <tr>\n",
              "      <th>1</th>\n",
              "      <td>1</td>\n",
              "      <td>2017-12-01</td>\n",
              "      <td>1</td>\n",
              "      <td>-5.5</td>\n",
              "      <td>38</td>\n",
              "      <td>0.8</td>\n",
              "      <td>0.0</td>\n",
              "      <td>0.0</td>\n",
              "      <td>Winter</td>\n",
              "      <td>0</td>\n",
              "      <td>True</td>\n",
              "      <td>219</td>\n",
              "      <td>0</td>\n",
              "      <td>Freezing</td>\n",
              "      <td>0</td>\n",
              "    </tr>\n",
              "    <tr>\n",
              "      <th>2</th>\n",
              "      <td>2</td>\n",
              "      <td>2017-12-01</td>\n",
              "      <td>2</td>\n",
              "      <td>-6.0</td>\n",
              "      <td>39</td>\n",
              "      <td>1.0</td>\n",
              "      <td>0.0</td>\n",
              "      <td>0.0</td>\n",
              "      <td>Winter</td>\n",
              "      <td>0</td>\n",
              "      <td>True</td>\n",
              "      <td>162</td>\n",
              "      <td>0</td>\n",
              "      <td>Freezing</td>\n",
              "      <td>0</td>\n",
              "    </tr>\n",
              "    <tr>\n",
              "      <th>3</th>\n",
              "      <td>3</td>\n",
              "      <td>2017-12-01</td>\n",
              "      <td>3</td>\n",
              "      <td>-6.2</td>\n",
              "      <td>40</td>\n",
              "      <td>0.9</td>\n",
              "      <td>0.0</td>\n",
              "      <td>0.0</td>\n",
              "      <td>Winter</td>\n",
              "      <td>0</td>\n",
              "      <td>True</td>\n",
              "      <td>148</td>\n",
              "      <td>1</td>\n",
              "      <td>Freezing</td>\n",
              "      <td>0</td>\n",
              "    </tr>\n",
              "    <tr>\n",
              "      <th>4</th>\n",
              "      <td>4</td>\n",
              "      <td>2017-12-01</td>\n",
              "      <td>4</td>\n",
              "      <td>-6.0</td>\n",
              "      <td>36</td>\n",
              "      <td>2.3</td>\n",
              "      <td>0.0</td>\n",
              "      <td>0.0</td>\n",
              "      <td>Winter</td>\n",
              "      <td>0</td>\n",
              "      <td>True</td>\n",
              "      <td>97</td>\n",
              "      <td>0</td>\n",
              "      <td>Freezing</td>\n",
              "      <td>0</td>\n",
              "    </tr>\n",
              "    <tr>\n",
              "      <th>...</th>\n",
              "      <td>...</td>\n",
              "      <td>...</td>\n",
              "      <td>...</td>\n",
              "      <td>...</td>\n",
              "      <td>...</td>\n",
              "      <td>...</td>\n",
              "      <td>...</td>\n",
              "      <td>...</td>\n",
              "      <td>...</td>\n",
              "      <td>...</td>\n",
              "      <td>...</td>\n",
              "      <td>...</td>\n",
              "      <td>...</td>\n",
              "      <td>...</td>\n",
              "      <td>...</td>\n",
              "    </tr>\n",
              "    <tr>\n",
              "      <th>8755</th>\n",
              "      <td>8755</td>\n",
              "      <td>2018-11-30</td>\n",
              "      <td>19</td>\n",
              "      <td>4.2</td>\n",
              "      <td>34</td>\n",
              "      <td>2.6</td>\n",
              "      <td>0.0</td>\n",
              "      <td>0.0</td>\n",
              "      <td>Autumn</td>\n",
              "      <td>0</td>\n",
              "      <td>True</td>\n",
              "      <td>644</td>\n",
              "      <td>0</td>\n",
              "      <td>Chilly</td>\n",
              "      <td>0</td>\n",
              "    </tr>\n",
              "    <tr>\n",
              "      <th>8756</th>\n",
              "      <td>8756</td>\n",
              "      <td>2018-11-30</td>\n",
              "      <td>20</td>\n",
              "      <td>3.4</td>\n",
              "      <td>37</td>\n",
              "      <td>2.3</td>\n",
              "      <td>0.0</td>\n",
              "      <td>0.0</td>\n",
              "      <td>Autumn</td>\n",
              "      <td>0</td>\n",
              "      <td>True</td>\n",
              "      <td>359</td>\n",
              "      <td>0</td>\n",
              "      <td>Chilly</td>\n",
              "      <td>0</td>\n",
              "    </tr>\n",
              "    <tr>\n",
              "      <th>8757</th>\n",
              "      <td>8757</td>\n",
              "      <td>2018-11-30</td>\n",
              "      <td>21</td>\n",
              "      <td>2.6</td>\n",
              "      <td>39</td>\n",
              "      <td>0.3</td>\n",
              "      <td>0.0</td>\n",
              "      <td>0.0</td>\n",
              "      <td>Autumn</td>\n",
              "      <td>0</td>\n",
              "      <td>True</td>\n",
              "      <td>1236</td>\n",
              "      <td>0</td>\n",
              "      <td>Chilly</td>\n",
              "      <td>0</td>\n",
              "    </tr>\n",
              "    <tr>\n",
              "      <th>8758</th>\n",
              "      <td>8758</td>\n",
              "      <td>2018-11-30</td>\n",
              "      <td>22</td>\n",
              "      <td>2.1</td>\n",
              "      <td>41</td>\n",
              "      <td>1.0</td>\n",
              "      <td>0.0</td>\n",
              "      <td>0.0</td>\n",
              "      <td>Autumn</td>\n",
              "      <td>0</td>\n",
              "      <td>True</td>\n",
              "      <td>628</td>\n",
              "      <td>1</td>\n",
              "      <td>Chilly</td>\n",
              "      <td>0</td>\n",
              "    </tr>\n",
              "    <tr>\n",
              "      <th>8759</th>\n",
              "      <td>8759</td>\n",
              "      <td>2018-11-30</td>\n",
              "      <td>23</td>\n",
              "      <td>1.9</td>\n",
              "      <td>43</td>\n",
              "      <td>1.3</td>\n",
              "      <td>0.0</td>\n",
              "      <td>0.0</td>\n",
              "      <td>Autumn</td>\n",
              "      <td>0</td>\n",
              "      <td>True</td>\n",
              "      <td>843</td>\n",
              "      <td>1</td>\n",
              "      <td>Chilly</td>\n",
              "      <td>0</td>\n",
              "    </tr>\n",
              "  </tbody>\n",
              "</table>\n",
              "<p>8760 rows × 15 columns</p>\n",
              "</div>\n",
              "      <button class=\"colab-df-convert\" onclick=\"convertToInteractive('df-260941eb-66a9-49d3-bba3-f9e20798db97')\"\n",
              "              title=\"Convert this dataframe to an interactive table.\"\n",
              "              style=\"display:none;\">\n",
              "        \n",
              "  <svg xmlns=\"http://www.w3.org/2000/svg\" height=\"24px\"viewBox=\"0 0 24 24\"\n",
              "       width=\"24px\">\n",
              "    <path d=\"M0 0h24v24H0V0z\" fill=\"none\"/>\n",
              "    <path d=\"M18.56 5.44l.94 2.06.94-2.06 2.06-.94-2.06-.94-.94-2.06-.94 2.06-2.06.94zm-11 1L8.5 8.5l.94-2.06 2.06-.94-2.06-.94L8.5 2.5l-.94 2.06-2.06.94zm10 10l.94 2.06.94-2.06 2.06-.94-2.06-.94-.94-2.06-.94 2.06-2.06.94z\"/><path d=\"M17.41 7.96l-1.37-1.37c-.4-.4-.92-.59-1.43-.59-.52 0-1.04.2-1.43.59L10.3 9.45l-7.72 7.72c-.78.78-.78 2.05 0 2.83L4 21.41c.39.39.9.59 1.41.59.51 0 1.02-.2 1.41-.59l7.78-7.78 2.81-2.81c.8-.78.8-2.07 0-2.86zM5.41 20L4 18.59l7.72-7.72 1.47 1.35L5.41 20z\"/>\n",
              "  </svg>\n",
              "      </button>\n",
              "      \n",
              "  <style>\n",
              "    .colab-df-container {\n",
              "      display:flex;\n",
              "      flex-wrap:wrap;\n",
              "      gap: 12px;\n",
              "    }\n",
              "\n",
              "    .colab-df-convert {\n",
              "      background-color: #E8F0FE;\n",
              "      border: none;\n",
              "      border-radius: 50%;\n",
              "      cursor: pointer;\n",
              "      display: none;\n",
              "      fill: #1967D2;\n",
              "      height: 32px;\n",
              "      padding: 0 0 0 0;\n",
              "      width: 32px;\n",
              "    }\n",
              "\n",
              "    .colab-df-convert:hover {\n",
              "      background-color: #E2EBFA;\n",
              "      box-shadow: 0px 1px 2px rgba(60, 64, 67, 0.3), 0px 1px 3px 1px rgba(60, 64, 67, 0.15);\n",
              "      fill: #174EA6;\n",
              "    }\n",
              "\n",
              "    [theme=dark] .colab-df-convert {\n",
              "      background-color: #3B4455;\n",
              "      fill: #D2E3FC;\n",
              "    }\n",
              "\n",
              "    [theme=dark] .colab-df-convert:hover {\n",
              "      background-color: #434B5C;\n",
              "      box-shadow: 0px 1px 3px 1px rgba(0, 0, 0, 0.15);\n",
              "      filter: drop-shadow(0px 1px 2px rgba(0, 0, 0, 0.3));\n",
              "      fill: #FFFFFF;\n",
              "    }\n",
              "  </style>\n",
              "\n",
              "      <script>\n",
              "        const buttonEl =\n",
              "          document.querySelector('#df-260941eb-66a9-49d3-bba3-f9e20798db97 button.colab-df-convert');\n",
              "        buttonEl.style.display =\n",
              "          google.colab.kernel.accessAllowed ? 'block' : 'none';\n",
              "\n",
              "        async function convertToInteractive(key) {\n",
              "          const element = document.querySelector('#df-260941eb-66a9-49d3-bba3-f9e20798db97');\n",
              "          const dataTable =\n",
              "            await google.colab.kernel.invokeFunction('convertToInteractive',\n",
              "                                                     [key], {});\n",
              "          if (!dataTable) return;\n",
              "\n",
              "          const docLinkHtml = 'Like what you see? Visit the ' +\n",
              "            '<a target=\"_blank\" href=https://colab.research.google.com/notebooks/data_table.ipynb>data table notebook</a>'\n",
              "            + ' to learn more about interactive tables.';\n",
              "          element.innerHTML = '';\n",
              "          dataTable['output_type'] = 'display_data';\n",
              "          await google.colab.output.renderOutput(dataTable, element);\n",
              "          const docLink = document.createElement('div');\n",
              "          docLink.innerHTML = docLinkHtml;\n",
              "          element.appendChild(docLink);\n",
              "        }\n",
              "      </script>\n",
              "    </div>\n",
              "  </div>\n",
              "  "
            ]
          },
          "metadata": {},
          "execution_count": 2
        }
      ]
    },
    {
      "cell_type": "code",
      "source": [
        "# быстрая базовая статистика\n",
        "df.describe()"
      ],
      "metadata": {
        "id": "GUT5cKjjERXb",
        "colab": {
          "base_uri": "https://localhost:8080/",
          "height": 361
        },
        "outputId": "9be5c55a-60a0-487f-dfcf-45af8c5723b9"
      },
      "execution_count": null,
      "outputs": [
        {
          "output_type": "execute_result",
          "data": {
            "text/plain": [
              "        Unnamed: 0         Hour  Temperature     Humidity   Wind speed  \\\n",
              "count  8760.000000  8760.000000  8581.000000  8760.000000  8760.000000   \n",
              "mean   4379.500000    11.500000    12.878557    58.226256     1.724909   \n",
              "std    2528.938512     6.922582    11.955551    20.362413     1.036300   \n",
              "min       0.000000     0.000000   -17.800000     0.000000     0.000000   \n",
              "25%    2189.750000     5.750000     3.400000    42.000000     0.900000   \n",
              "50%    4379.500000    11.500000    13.700000    57.000000     1.500000   \n",
              "75%    6569.250000    17.250000    22.500000    74.000000     2.300000   \n",
              "max    8759.000000    23.000000    39.400000    98.000000     7.400000   \n",
              "\n",
              "          Rainfall     Snowfall      Holiday  Rental Count  Normal Humidity  \\\n",
              "count  8760.000000  8760.000000  8760.000000   8760.000000       8760.00000   \n",
              "mean      0.148687     0.075068     0.049315    696.582078          0.34532   \n",
              "std       1.128193     0.436746     0.216537    749.812613          0.47550   \n",
              "min       0.000000     0.000000     0.000000      0.000000          0.00000   \n",
              "25%       0.000000     0.000000     0.000000    157.000000          0.00000   \n",
              "50%       0.000000     0.000000     0.000000    425.500000          0.00000   \n",
              "75%       0.000000     0.000000     0.000000   1009.000000          1.00000   \n",
              "max      35.000000     8.800000     1.000000   6012.000000          1.00000   \n",
              "\n",
              "       Good Weather  \n",
              "count   8760.000000  \n",
              "mean       0.092694  \n",
              "std        0.290020  \n",
              "min        0.000000  \n",
              "25%        0.000000  \n",
              "50%        0.000000  \n",
              "75%        0.000000  \n",
              "max        1.000000  "
            ],
            "text/html": [
              "\n",
              "  <div id=\"df-c94be2c6-1b62-4799-a30b-c689154e889e\">\n",
              "    <div class=\"colab-df-container\">\n",
              "      <div>\n",
              "<style scoped>\n",
              "    .dataframe tbody tr th:only-of-type {\n",
              "        vertical-align: middle;\n",
              "    }\n",
              "\n",
              "    .dataframe tbody tr th {\n",
              "        vertical-align: top;\n",
              "    }\n",
              "\n",
              "    .dataframe thead th {\n",
              "        text-align: right;\n",
              "    }\n",
              "</style>\n",
              "<table border=\"1\" class=\"dataframe\">\n",
              "  <thead>\n",
              "    <tr style=\"text-align: right;\">\n",
              "      <th></th>\n",
              "      <th>Unnamed: 0</th>\n",
              "      <th>Hour</th>\n",
              "      <th>Temperature</th>\n",
              "      <th>Humidity</th>\n",
              "      <th>Wind speed</th>\n",
              "      <th>Rainfall</th>\n",
              "      <th>Snowfall</th>\n",
              "      <th>Holiday</th>\n",
              "      <th>Rental Count</th>\n",
              "      <th>Normal Humidity</th>\n",
              "      <th>Good Weather</th>\n",
              "    </tr>\n",
              "  </thead>\n",
              "  <tbody>\n",
              "    <tr>\n",
              "      <th>count</th>\n",
              "      <td>8760.000000</td>\n",
              "      <td>8760.000000</td>\n",
              "      <td>8581.000000</td>\n",
              "      <td>8760.000000</td>\n",
              "      <td>8760.000000</td>\n",
              "      <td>8760.000000</td>\n",
              "      <td>8760.000000</td>\n",
              "      <td>8760.000000</td>\n",
              "      <td>8760.000000</td>\n",
              "      <td>8760.00000</td>\n",
              "      <td>8760.000000</td>\n",
              "    </tr>\n",
              "    <tr>\n",
              "      <th>mean</th>\n",
              "      <td>4379.500000</td>\n",
              "      <td>11.500000</td>\n",
              "      <td>12.878557</td>\n",
              "      <td>58.226256</td>\n",
              "      <td>1.724909</td>\n",
              "      <td>0.148687</td>\n",
              "      <td>0.075068</td>\n",
              "      <td>0.049315</td>\n",
              "      <td>696.582078</td>\n",
              "      <td>0.34532</td>\n",
              "      <td>0.092694</td>\n",
              "    </tr>\n",
              "    <tr>\n",
              "      <th>std</th>\n",
              "      <td>2528.938512</td>\n",
              "      <td>6.922582</td>\n",
              "      <td>11.955551</td>\n",
              "      <td>20.362413</td>\n",
              "      <td>1.036300</td>\n",
              "      <td>1.128193</td>\n",
              "      <td>0.436746</td>\n",
              "      <td>0.216537</td>\n",
              "      <td>749.812613</td>\n",
              "      <td>0.47550</td>\n",
              "      <td>0.290020</td>\n",
              "    </tr>\n",
              "    <tr>\n",
              "      <th>min</th>\n",
              "      <td>0.000000</td>\n",
              "      <td>0.000000</td>\n",
              "      <td>-17.800000</td>\n",
              "      <td>0.000000</td>\n",
              "      <td>0.000000</td>\n",
              "      <td>0.000000</td>\n",
              "      <td>0.000000</td>\n",
              "      <td>0.000000</td>\n",
              "      <td>0.000000</td>\n",
              "      <td>0.00000</td>\n",
              "      <td>0.000000</td>\n",
              "    </tr>\n",
              "    <tr>\n",
              "      <th>25%</th>\n",
              "      <td>2189.750000</td>\n",
              "      <td>5.750000</td>\n",
              "      <td>3.400000</td>\n",
              "      <td>42.000000</td>\n",
              "      <td>0.900000</td>\n",
              "      <td>0.000000</td>\n",
              "      <td>0.000000</td>\n",
              "      <td>0.000000</td>\n",
              "      <td>157.000000</td>\n",
              "      <td>0.00000</td>\n",
              "      <td>0.000000</td>\n",
              "    </tr>\n",
              "    <tr>\n",
              "      <th>50%</th>\n",
              "      <td>4379.500000</td>\n",
              "      <td>11.500000</td>\n",
              "      <td>13.700000</td>\n",
              "      <td>57.000000</td>\n",
              "      <td>1.500000</td>\n",
              "      <td>0.000000</td>\n",
              "      <td>0.000000</td>\n",
              "      <td>0.000000</td>\n",
              "      <td>425.500000</td>\n",
              "      <td>0.00000</td>\n",
              "      <td>0.000000</td>\n",
              "    </tr>\n",
              "    <tr>\n",
              "      <th>75%</th>\n",
              "      <td>6569.250000</td>\n",
              "      <td>17.250000</td>\n",
              "      <td>22.500000</td>\n",
              "      <td>74.000000</td>\n",
              "      <td>2.300000</td>\n",
              "      <td>0.000000</td>\n",
              "      <td>0.000000</td>\n",
              "      <td>0.000000</td>\n",
              "      <td>1009.000000</td>\n",
              "      <td>1.00000</td>\n",
              "      <td>0.000000</td>\n",
              "    </tr>\n",
              "    <tr>\n",
              "      <th>max</th>\n",
              "      <td>8759.000000</td>\n",
              "      <td>23.000000</td>\n",
              "      <td>39.400000</td>\n",
              "      <td>98.000000</td>\n",
              "      <td>7.400000</td>\n",
              "      <td>35.000000</td>\n",
              "      <td>8.800000</td>\n",
              "      <td>1.000000</td>\n",
              "      <td>6012.000000</td>\n",
              "      <td>1.00000</td>\n",
              "      <td>1.000000</td>\n",
              "    </tr>\n",
              "  </tbody>\n",
              "</table>\n",
              "</div>\n",
              "      <button class=\"colab-df-convert\" onclick=\"convertToInteractive('df-c94be2c6-1b62-4799-a30b-c689154e889e')\"\n",
              "              title=\"Convert this dataframe to an interactive table.\"\n",
              "              style=\"display:none;\">\n",
              "        \n",
              "  <svg xmlns=\"http://www.w3.org/2000/svg\" height=\"24px\"viewBox=\"0 0 24 24\"\n",
              "       width=\"24px\">\n",
              "    <path d=\"M0 0h24v24H0V0z\" fill=\"none\"/>\n",
              "    <path d=\"M18.56 5.44l.94 2.06.94-2.06 2.06-.94-2.06-.94-.94-2.06-.94 2.06-2.06.94zm-11 1L8.5 8.5l.94-2.06 2.06-.94-2.06-.94L8.5 2.5l-.94 2.06-2.06.94zm10 10l.94 2.06.94-2.06 2.06-.94-2.06-.94-.94-2.06-.94 2.06-2.06.94z\"/><path d=\"M17.41 7.96l-1.37-1.37c-.4-.4-.92-.59-1.43-.59-.52 0-1.04.2-1.43.59L10.3 9.45l-7.72 7.72c-.78.78-.78 2.05 0 2.83L4 21.41c.39.39.9.59 1.41.59.51 0 1.02-.2 1.41-.59l7.78-7.78 2.81-2.81c.8-.78.8-2.07 0-2.86zM5.41 20L4 18.59l7.72-7.72 1.47 1.35L5.41 20z\"/>\n",
              "  </svg>\n",
              "      </button>\n",
              "      \n",
              "  <style>\n",
              "    .colab-df-container {\n",
              "      display:flex;\n",
              "      flex-wrap:wrap;\n",
              "      gap: 12px;\n",
              "    }\n",
              "\n",
              "    .colab-df-convert {\n",
              "      background-color: #E8F0FE;\n",
              "      border: none;\n",
              "      border-radius: 50%;\n",
              "      cursor: pointer;\n",
              "      display: none;\n",
              "      fill: #1967D2;\n",
              "      height: 32px;\n",
              "      padding: 0 0 0 0;\n",
              "      width: 32px;\n",
              "    }\n",
              "\n",
              "    .colab-df-convert:hover {\n",
              "      background-color: #E2EBFA;\n",
              "      box-shadow: 0px 1px 2px rgba(60, 64, 67, 0.3), 0px 1px 3px 1px rgba(60, 64, 67, 0.15);\n",
              "      fill: #174EA6;\n",
              "    }\n",
              "\n",
              "    [theme=dark] .colab-df-convert {\n",
              "      background-color: #3B4455;\n",
              "      fill: #D2E3FC;\n",
              "    }\n",
              "\n",
              "    [theme=dark] .colab-df-convert:hover {\n",
              "      background-color: #434B5C;\n",
              "      box-shadow: 0px 1px 3px 1px rgba(0, 0, 0, 0.15);\n",
              "      filter: drop-shadow(0px 1px 2px rgba(0, 0, 0, 0.3));\n",
              "      fill: #FFFFFF;\n",
              "    }\n",
              "  </style>\n",
              "\n",
              "      <script>\n",
              "        const buttonEl =\n",
              "          document.querySelector('#df-c94be2c6-1b62-4799-a30b-c689154e889e button.colab-df-convert');\n",
              "        buttonEl.style.display =\n",
              "          google.colab.kernel.accessAllowed ? 'block' : 'none';\n",
              "\n",
              "        async function convertToInteractive(key) {\n",
              "          const element = document.querySelector('#df-c94be2c6-1b62-4799-a30b-c689154e889e');\n",
              "          const dataTable =\n",
              "            await google.colab.kernel.invokeFunction('convertToInteractive',\n",
              "                                                     [key], {});\n",
              "          if (!dataTable) return;\n",
              "\n",
              "          const docLinkHtml = 'Like what you see? Visit the ' +\n",
              "            '<a target=\"_blank\" href=https://colab.research.google.com/notebooks/data_table.ipynb>data table notebook</a>'\n",
              "            + ' to learn more about interactive tables.';\n",
              "          element.innerHTML = '';\n",
              "          dataTable['output_type'] = 'display_data';\n",
              "          await google.colab.output.renderOutput(dataTable, element);\n",
              "          const docLink = document.createElement('div');\n",
              "          docLink.innerHTML = docLinkHtml;\n",
              "          element.appendChild(docLink);\n",
              "        }\n",
              "      </script>\n",
              "    </div>\n",
              "  </div>\n",
              "  "
            ]
          },
          "metadata": {},
          "execution_count": 3
        }
      ]
    },
    {
      "cell_type": "code",
      "source": [
        "df['Temperature'].mode() # мода - наиболее часто встречающееся значение"
      ],
      "metadata": {
        "colab": {
          "base_uri": "https://localhost:8080/"
        },
        "id": "JPzoVQISSjQQ",
        "outputId": "0a43573c-1db0-4f2c-870d-f03da11c32a4"
      },
      "execution_count": null,
      "outputs": [
        {
          "output_type": "execute_result",
          "data": {
            "text/plain": [
              "0    23.4\n",
              "Name: Temperature, dtype: float64"
            ]
          },
          "metadata": {},
          "execution_count": 5
        }
      ]
    },
    {
      "cell_type": "code",
      "source": [
        "# диаграмма, построенная с помощью pandas\n",
        "# bins - количество столбиков\n",
        "df['Humidity'].hist(bins=50);"
      ],
      "metadata": {
        "id": "21XLnaQkEYFb",
        "colab": {
          "base_uri": "https://localhost:8080/",
          "height": 430
        },
        "outputId": "9f64771e-a3a6-4db9-9172-7e6ed6eca93f"
      },
      "execution_count": null,
      "outputs": [
        {
          "output_type": "display_data",
          "data": {
            "text/plain": [
              "<Figure size 640x480 with 1 Axes>"
            ],
            "image/png": "[encoded data removed]"
          },
          "metadata": {}
        }
      ]
    },
    {
      "cell_type": "code",
      "source": [
        "# как найти выбросы:\n",
        "# обычно в исследованиях договариваются, что считать выбросами\n",
        "# стандартный путь - вычислить межквартильный размах (3 квартиль - 1 квартиль)\n",
        "# затем от этих квартилей заложить расстояние в 1.5 межквартильных размаха\n",
        "d = df.describe()['Rental Count']['75%'] - df.describe()['Rental Count']['25%'] # межквартильный размах\n",
        "\n",
        "print(len(df[df['Rental Count'] > df.describe()['Rental Count']['75%'] + 1.5 * d]), 'выбросов справа')\n",
        "print(len(df[df['Rental Count'] < df.describe()['Rental Count']['25%'] - 1.5 * d]), 'выбросов слева')"
      ],
      "metadata": {
        "id": "WI65RbHyIYuA",
        "colab": {
          "base_uri": "https://localhost:8080/"
        },
        "outputId": "3af94d48-32ff-49eb-87b5-5a21284c7cc0"
      },
      "execution_count": null,
      "outputs": [
        {
          "output_type": "stream",
          "name": "stdout",
          "text": [
            "413 выбросов справа\n",
            "0 выбросов слева\n"
          ]
        }
      ]
    },
    {
      "cell_type": "code",
      "source": [
        "df['Rental Count'].hist(bins=50);"
      ],
      "metadata": {
        "colab": {
          "base_uri": "https://localhost:8080/",
          "height": 430
        },
        "id": "Vk_1X9FVUlvs",
        "outputId": "2162b031-0ccc-4731-e317-4204ee059a3d"
      },
      "execution_count": null,
      "outputs": [
        {
          "output_type": "display_data",
          "data": {
            "text/plain": [
              "<Figure size 640x480 with 1 Axes>"
            ],
            "image/png": "[encoded data removed]"
          },
          "metadata": {}
        }
      ]
    },
    {
      "cell_type": "code",
      "source": [
        "plt.boxplot(df['Rental Count']);"
      ],
      "metadata": {
        "id": "lmUYN2hyHMCi",
        "colab": {
          "base_uri": "https://localhost:8080/",
          "height": 430
        },
        "outputId": "128a619c-891f-4650-8eb7-5a8af579d909"
      },
      "execution_count": null,
      "outputs": [
        {
          "output_type": "display_data",
          "data": {
            "text/plain": [
              "<Figure size 640x480 with 1 Axes>"
            ],
            "image/png": "[encoded data removed]"
          },
          "metadata": {}
        }
      ]
    },
    {
      "cell_type": "code",
      "source": [
        "d = df.describe()['Humidity']['75%'] - df.describe()['Humidity']['25%'] # межквартильный размах\n",
        "\n",
        "print(len(df[df['Humidity'] > df.describe()['Humidity']['75%'] + 1.5 * d]), 'выбросов справа')\n",
        "print(len(df[df['Humidity'] < df.describe()['Humidity']['25%'] - 1.5 * d]), 'выбросов слева')"
      ],
      "metadata": {
        "id": "dT9rOIgKI6Pb",
        "colab": {
          "base_uri": "https://localhost:8080/"
        },
        "outputId": "4cc726bd-d42d-4d0b-c629-eeb8a2d802b2"
      },
      "execution_count": null,
      "outputs": [
        {
          "output_type": "stream",
          "name": "stdout",
          "text": [
            "0 выбросов справа\n",
            "0 выбросов слева\n"
          ]
        }
      ]
    },
    {
      "cell_type": "code",
      "source": [
        "plt.boxplot(df['Humidity']);"
      ],
      "metadata": {
        "id": "lvwU6V3MHLS_",
        "colab": {
          "base_uri": "https://localhost:8080/",
          "height": 430
        },
        "outputId": "12bf618a-27b4-496d-db14-a97f6476d819"
      },
      "execution_count": null,
      "outputs": [
        {
          "output_type": "display_data",
          "data": {
            "text/plain": [
              "<Figure size 640x480 with 1 Axes>"
            ],
            "image/png": "[encoded data removed]"
          },
          "metadata": {}
        }
      ]
    },
    {
      "cell_type": "code",
      "source": [
        "# данные в pandas можно группировать\n",
        "df.groupby('Temperature Category')['Temperature'].median()"
      ],
      "metadata": {
        "id": "Zw36mUeLE5x5",
        "colab": {
          "base_uri": "https://localhost:8080/"
        },
        "outputId": "172d32c1-9cbb-49a0-d40f-e21ed1e43f68"
      },
      "execution_count": null,
      "outputs": [
        {
          "output_type": "execute_result",
          "data": {
            "text/plain": [
              "Temperature Category\n",
              "Chilly       7.35\n",
              "Freezing    -4.90\n",
              "Hot         29.10\n",
              "Nice        20.60\n",
              "Name: Temperature, dtype: float64"
            ]
          },
          "metadata": {},
          "execution_count": 19
        }
      ]
    },
    {
      "cell_type": "code",
      "source": [
        "df.groupby('Temperature Category')['Temperature'].mean()"
      ],
      "metadata": {
        "colab": {
          "base_uri": "https://localhost:8080/"
        },
        "id": "lIvAghUZVXui",
        "outputId": "27e69147-9502-450c-b2d4-73060b66b175"
      },
      "execution_count": null,
      "outputs": [
        {
          "output_type": "execute_result",
          "data": {
            "text/plain": [
              "Temperature Category\n",
              "Chilly       7.389107\n",
              "Freezing    -5.596955\n",
              "Hot         29.884441\n",
              "Nice        20.589165\n",
              "Name: Temperature, dtype: float64"
            ]
          },
          "metadata": {},
          "execution_count": 18
        }
      ]
    },
    {
      "cell_type": "code",
      "source": [
        "df.groupby('Temperature Category')['Temperature'].mode()"
      ],
      "metadata": {
        "colab": {
          "base_uri": "https://localhost:8080/",
          "height": 297
        },
        "id": "nho76W2pVjEc",
        "outputId": "0d171e57-3e2c-4a43-aad7-89d55078a5e9"
      },
      "execution_count": null,
      "outputs": [
        {
          "output_type": "error",
          "ename": "AttributeError",
          "evalue": "ignored",
          "traceback": [
            "\u001b[0;31m---------------------------------------------------------------------------\u001b[0m",
            "\u001b[0;31mAttributeError\u001b[0m                            Traceback (most recent call last)",
            "\u001b[0;32m<ipython-input-20-e2e2c103c78e>\u001b[0m in \u001b[0;36m<cell line: 1>\u001b[0;34m()\u001b[0m\n\u001b[0;32m----> 1\u001b[0;31m \u001b[0mdf\u001b[0m\u001b[0;34m.\u001b[0m\u001b[0mgroupby\u001b[0m\u001b[0;34m(\u001b[0m\u001b[0;34m'Temperature Category'\u001b[0m\u001b[0;34m)\u001b[0m\u001b[0;34m[\u001b[0m\u001b[0;34m'Temperature'\u001b[0m\u001b[0;34m]\u001b[0m\u001b[0;34m.\u001b[0m\u001b[0mmode\u001b[0m\u001b[0;34m(\u001b[0m\u001b[0;34m)\u001b[0m\u001b[0;34m\u001b[0m\u001b[0;34m\u001b[0m\u001b[0m\n\u001b[0m",
            "\u001b[0;32m/usr/local/lib/python3.9/dist-packages/pandas/core/groupby/groupby.py\u001b[0m in \u001b[0;36m__getattr__\u001b[0;34m(self, attr)\u001b[0m\n\u001b[1;32m    902\u001b[0m             \u001b[0;32mreturn\u001b[0m \u001b[0mself\u001b[0m\u001b[0;34m[\u001b[0m\u001b[0mattr\u001b[0m\u001b[0;34m]\u001b[0m\u001b[0;34m\u001b[0m\u001b[0;34m\u001b[0m\u001b[0m\n\u001b[1;32m    903\u001b[0m \u001b[0;34m\u001b[0m\u001b[0m\n\u001b[0;32m--> 904\u001b[0;31m         raise AttributeError(\n\u001b[0m\u001b[1;32m    905\u001b[0m             \u001b[0;34mf\"'{type(self).__name__}' object has no attribute '{attr}'\"\u001b[0m\u001b[0;34m\u001b[0m\u001b[0;34m\u001b[0m\u001b[0m\n\u001b[1;32m    906\u001b[0m         )\n",
            "\u001b[0;31mAttributeError\u001b[0m: 'SeriesGroupBy' object has no attribute 'mode'"
          ]
        }
      ]
    },
    {
      "cell_type": "markdown",
      "source": [
        "### сложности с модой...\n",
        "\n",
        "Для сгруппированных данных нельзя напрямую посчитать моду\n",
        "\n",
        "Но! Есть специальный метод .agg в pandas (агрегирование данных), который позволяет посчитать все, что угодно :)\n",
        "\n",
        "Документация [здесь](https://pandas.pydata.org/docs/reference/api/pandas.DataFrame.agg.html)\n",
        "\n",
        "А вот здесь есть еще одна [тетрадка с примерами](https://dfedorov.spb.ru/pandas/%D0%9E%D0%B1%D1%8A%D1%8F%D1%81%D0%BD%D0%B5%D0%BD%D0%B8%D0%B5%20%D1%84%D1%83%D0%BD%D0%BA%D1%86%D0%B8%D0%B9%20Grouper%20%D0%B8%20Agg%20%D0%B2%20Pandas.html)"
      ],
      "metadata": {
        "id": "BrPeRdk2FM2Q"
      }
    },
    {
      "cell_type": "code",
      "source": [
        "df.groupby('Temperature Category')['Temperature'].agg(pd.Series.mode)"
      ],
      "metadata": {
        "id": "iiVJBzqqFFmk",
        "colab": {
          "base_uri": "https://localhost:8080/"
        },
        "outputId": "9106b99f-628d-4da3-f6d8-c927f8c5be4c"
      },
      "execution_count": null,
      "outputs": [
        {
          "output_type": "execute_result",
          "data": {
            "text/plain": [
              "Temperature Category\n",
              "Chilly               7.6\n",
              "Freezing            -1.8\n",
              "Hot         [27.8, 28.2]\n",
              "Nice                23.4\n",
              "Name: Temperature, dtype: object"
            ]
          },
          "metadata": {},
          "execution_count": 21
        }
      ]
    },
    {
      "cell_type": "code",
      "source": [
        "df.groupby('Seasons')['Temperature Category'].agg(pd.Series.mode)\n",
        "# даже моду к категориальным данным, сгруппированным по другой категориальной переменной :)"
      ],
      "metadata": {
        "id": "c7YC4b_CFQfN",
        "colab": {
          "base_uri": "https://localhost:8080/"
        },
        "outputId": "d87c3a3b-006d-4d27-e76c-efc6fdc92199"
      },
      "execution_count": null,
      "outputs": [
        {
          "output_type": "execute_result",
          "data": {
            "text/plain": [
              "Seasons\n",
              "Autumn      Chilly\n",
              "Spring      Chilly\n",
              "Summer         Hot\n",
              "Winter    Freezing\n",
              "Name: Temperature Category, dtype: object"
            ]
          },
          "metadata": {},
          "execution_count": 22
        }
      ]
    },
    {
      "cell_type": "markdown",
      "source": [
        "# Корреляционный анализ\n",
        "\n",
        "Поиск зависимостей"
      ],
      "metadata": {
        "id": "mKUq55GBFv9P"
      }
    },
    {
      "cell_type": "code",
      "source": [
        "df.corr() # метод, встроенный в pandas\n",
        "# работает для всех числовых значений датафрейма"
      ],
      "metadata": {
        "id": "DJDzdkfIF1al",
        "colab": {
          "base_uri": "https://localhost:8080/",
          "height": 559
        },
        "outputId": "03419b5f-d077-43cd-ea35-5f5df94f280c"
      },
      "execution_count": null,
      "outputs": [
        {
          "output_type": "execute_result",
          "data": {
            "text/plain": [
              "                 Unnamed: 0          Hour  Temperature  Humidity  Wind speed  \\\n",
              "Unnamed: 0         1.000000  2.737347e-03     0.579938  0.169402   -0.161288   \n",
              "Hour               0.002737  1.000000e+00     0.123090 -0.241644    0.285197   \n",
              "Temperature        0.579938  1.230898e-01     1.000000  0.161933   -0.037797   \n",
              "Humidity           0.169402 -2.416438e-01     0.161933  1.000000   -0.336683   \n",
              "Wind speed        -0.161288  2.851967e-01    -0.037797 -0.336683    1.000000   \n",
              "Rainfall           0.038022  8.714642e-03     0.050167  0.236397   -0.019674   \n",
              "Snowfall          -0.137047 -2.151645e-02    -0.220160  0.108183   -0.003554   \n",
              "Holiday           -0.066048 -1.391486e-16    -0.055071 -0.050278    0.023017   \n",
              "Functioning Day   -0.183770  5.439377e-03    -0.049820 -0.020800    0.005037   \n",
              "Rental Count       0.288551  3.456218e-01     0.455155 -0.169085    0.097583   \n",
              "Normal Humidity   -0.001431  1.075026e-01     0.022692 -0.285947    0.074964   \n",
              "Good Weather       0.131626  7.369784e-02     0.209042 -0.115874    0.032127   \n",
              "\n",
              "                 Rainfall  Snowfall       Holiday  Functioning Day  \\\n",
              "Unnamed: 0       0.038022 -0.137047 -6.604797e-02        -0.183770   \n",
              "Hour             0.008715 -0.021516 -1.391486e-16         0.005439   \n",
              "Temperature      0.050167 -0.220160 -5.507144e-02        -0.049820   \n",
              "Humidity         0.236397  0.108183 -5.027765e-02        -0.020800   \n",
              "Wind speed      -0.019674 -0.003554  2.301677e-02         0.005037   \n",
              "Rainfall         1.000000  0.008500 -1.426911e-02         0.002055   \n",
              "Snowfall         0.008500  1.000000 -1.259072e-02         0.032089   \n",
              "Holiday         -0.014269 -0.012591  1.000000e+00        -0.027624   \n",
              "Functioning Day  0.002055  0.032089 -2.762445e-02         1.000000   \n",
              "Rental Count    -0.103519 -0.120869 -6.882160e-02         0.173437   \n",
              "Normal Humidity -0.095339 -0.067939 -2.015629e-02         0.002488   \n",
              "Good Weather    -0.042127 -0.054942  2.900771e-02        -0.101806   \n",
              "\n",
              "                 Rental Count  Normal Humidity  Good Weather  \n",
              "Unnamed: 0           0.288551        -0.001431      0.131626  \n",
              "Hour                 0.345622         0.107503      0.073698  \n",
              "Temperature          0.455155         0.022692      0.209042  \n",
              "Humidity            -0.169085        -0.285947     -0.115874  \n",
              "Wind speed           0.097583         0.074964      0.032127  \n",
              "Rainfall            -0.103519        -0.095339     -0.042127  \n",
              "Snowfall            -0.120869        -0.067939     -0.054942  \n",
              "Holiday             -0.068822        -0.020156      0.029008  \n",
              "Functioning Day      0.173437         0.002488     -0.101806  \n",
              "Rental Count         1.000000         0.128521      0.194224  \n",
              "Normal Humidity      0.128521         1.000000      0.440102  \n",
              "Good Weather         0.194224         0.440102      1.000000  "
            ],
            "text/html": [
              "\n",
              "  <div id=\"df-03966665-7207-4473-8a0a-5a91a546f3d9\">\n",
              "    <div class=\"colab-df-container\">\n",
              "      <div>\n",
              "<style scoped>\n",
              "    .dataframe tbody tr th:only-of-type {\n",
              "        vertical-align: middle;\n",
              "    }\n",
              "\n",
              "    .dataframe tbody tr th {\n",
              "        vertical-align: top;\n",
              "    }\n",
              "\n",
              "    .dataframe thead th {\n",
              "        text-align: right;\n",
              "    }\n",
              "</style>\n",
              "<table border=\"1\" class=\"dataframe\">\n",
              "  <thead>\n",
              "    <tr style=\"text-align: right;\">\n",
              "      <th></th>\n",
              "      <th>Unnamed: 0</th>\n",
              "      <th>Hour</th>\n",
              "      <th>Temperature</th>\n",
              "      <th>Humidity</th>\n",
              "      <th>Wind speed</th>\n",
              "      <th>Rainfall</th>\n",
              "      <th>Snowfall</th>\n",
              "      <th>Holiday</th>\n",
              "      <th>Functioning Day</th>\n",
              "      <th>Rental Count</th>\n",
              "      <th>Normal Humidity</th>\n",
              "      <th>Good Weather</th>\n",
              "    </tr>\n",
              "  </thead>\n",
              "  <tbody>\n",
              "    <tr>\n",
              "      <th>Unnamed: 0</th>\n",
              "      <td>1.000000</td>\n",
              "      <td>2.737347e-03</td>\n",
              "      <td>0.579938</td>\n",
              "      <td>0.169402</td>\n",
              "      <td>-0.161288</td>\n",
              "      <td>0.038022</td>\n",
              "      <td>-0.137047</td>\n",
              "      <td>-6.604797e-02</td>\n",
              "      <td>-0.183770</td>\n",
              "      <td>0.288551</td>\n",
              "      <td>-0.001431</td>\n",
              "      <td>0.131626</td>\n",
              "    </tr>\n",
              "    <tr>\n",
              "      <th>Hour</th>\n",
              "      <td>0.002737</td>\n",
              "      <td>1.000000e+00</td>\n",
              "      <td>0.123090</td>\n",
              "      <td>-0.241644</td>\n",
              "      <td>0.285197</td>\n",
              "      <td>0.008715</td>\n",
              "      <td>-0.021516</td>\n",
              "      <td>-1.391486e-16</td>\n",
              "      <td>0.005439</td>\n",
              "      <td>0.345622</td>\n",
              "      <td>0.107503</td>\n",
              "      <td>0.073698</td>\n",
              "    </tr>\n",
              "    <tr>\n",
              "      <th>Temperature</th>\n",
              "      <td>0.579938</td>\n",
              "      <td>1.230898e-01</td>\n",
              "      <td>1.000000</td>\n",
              "      <td>0.161933</td>\n",
              "      <td>-0.037797</td>\n",
              "      <td>0.050167</td>\n",
              "      <td>-0.220160</td>\n",
              "      <td>-5.507144e-02</td>\n",
              "      <td>-0.049820</td>\n",
              "      <td>0.455155</td>\n",
              "      <td>0.022692</td>\n",
              "      <td>0.209042</td>\n",
              "    </tr>\n",
              "    <tr>\n",
              "      <th>Humidity</th>\n",
              "      <td>0.169402</td>\n",
              "      <td>-2.416438e-01</td>\n",
              "      <td>0.161933</td>\n",
              "      <td>1.000000</td>\n",
              "      <td>-0.336683</td>\n",
              "      <td>0.236397</td>\n",
              "      <td>0.108183</td>\n",
              "      <td>-5.027765e-02</td>\n",
              "      <td>-0.020800</td>\n",
              "      <td>-0.169085</td>\n",
              "      <td>-0.285947</td>\n",
              "      <td>-0.115874</td>\n",
              "    </tr>\n",
              "    <tr>\n",
              "      <th>Wind speed</th>\n",
              "      <td>-0.161288</td>\n",
              "      <td>2.851967e-01</td>\n",
              "      <td>-0.037797</td>\n",
              "      <td>-0.336683</td>\n",
              "      <td>1.000000</td>\n",
              "      <td>-0.019674</td>\n",
              "      <td>-0.003554</td>\n",
              "      <td>2.301677e-02</td>\n",
              "      <td>0.005037</td>\n",
              "      <td>0.097583</td>\n",
              "      <td>0.074964</td>\n",
              "      <td>0.032127</td>\n",
              "    </tr>\n",
              "    <tr>\n",
              "      <th>Rainfall</th>\n",
              "      <td>0.038022</td>\n",
              "      <td>8.714642e-03</td>\n",
              "      <td>0.050167</td>\n",
              "      <td>0.236397</td>\n",
              "      <td>-0.019674</td>\n",
              "      <td>1.000000</td>\n",
              "      <td>0.008500</td>\n",
              "      <td>-1.426911e-02</td>\n",
              "      <td>0.002055</td>\n",
              "      <td>-0.103519</td>\n",
              "      <td>-0.095339</td>\n",
              "      <td>-0.042127</td>\n",
              "    </tr>\n",
              "    <tr>\n",
              "      <th>Snowfall</th>\n",
              "      <td>-0.137047</td>\n",
              "      <td>-2.151645e-02</td>\n",
              "      <td>-0.220160</td>\n",
              "      <td>0.108183</td>\n",
              "      <td>-0.003554</td>\n",
              "      <td>0.008500</td>\n",
              "      <td>1.000000</td>\n",
              "      <td>-1.259072e-02</td>\n",
              "      <td>0.032089</td>\n",
              "      <td>-0.120869</td>\n",
              "      <td>-0.067939</td>\n",
              "      <td>-0.054942</td>\n",
              "    </tr>\n",
              "    <tr>\n",
              "      <th>Holiday</th>\n",
              "      <td>-0.066048</td>\n",
              "      <td>-1.391486e-16</td>\n",
              "      <td>-0.055071</td>\n",
              "      <td>-0.050278</td>\n",
              "      <td>0.023017</td>\n",
              "      <td>-0.014269</td>\n",
              "      <td>-0.012591</td>\n",
              "      <td>1.000000e+00</td>\n",
              "      <td>-0.027624</td>\n",
              "      <td>-0.068822</td>\n",
              "      <td>-0.020156</td>\n",
              "      <td>0.029008</td>\n",
              "    </tr>\n",
              "    <tr>\n",
              "      <th>Functioning Day</th>\n",
              "      <td>-0.183770</td>\n",
              "      <td>5.439377e-03</td>\n",
              "      <td>-0.049820</td>\n",
              "      <td>-0.020800</td>\n",
              "      <td>0.005037</td>\n",
              "      <td>0.002055</td>\n",
              "      <td>0.032089</td>\n",
              "      <td>-2.762445e-02</td>\n",
              "      <td>1.000000</td>\n",
              "      <td>0.173437</td>\n",
              "      <td>0.002488</td>\n",
              "      <td>-0.101806</td>\n",
              "    </tr>\n",
              "    <tr>\n",
              "      <th>Rental Count</th>\n",
              "      <td>0.288551</td>\n",
              "      <td>3.456218e-01</td>\n",
              "      <td>0.455155</td>\n",
              "      <td>-0.169085</td>\n",
              "      <td>0.097583</td>\n",
              "      <td>-0.103519</td>\n",
              "      <td>-0.120869</td>\n",
              "      <td>-6.882160e-02</td>\n",
              "      <td>0.173437</td>\n",
              "      <td>1.000000</td>\n",
              "      <td>0.128521</td>\n",
              "      <td>0.194224</td>\n",
              "    </tr>\n",
              "    <tr>\n",
              "      <th>Normal Humidity</th>\n",
              "      <td>-0.001431</td>\n",
              "      <td>1.075026e-01</td>\n",
              "      <td>0.022692</td>\n",
              "      <td>-0.285947</td>\n",
              "      <td>0.074964</td>\n",
              "      <td>-0.095339</td>\n",
              "      <td>-0.067939</td>\n",
              "      <td>-2.015629e-02</td>\n",
              "      <td>0.002488</td>\n",
              "      <td>0.128521</td>\n",
              "      <td>1.000000</td>\n",
              "      <td>0.440102</td>\n",
              "    </tr>\n",
              "    <tr>\n",
              "      <th>Good Weather</th>\n",
              "      <td>0.131626</td>\n",
              "      <td>7.369784e-02</td>\n",
              "      <td>0.209042</td>\n",
              "      <td>-0.115874</td>\n",
              "      <td>0.032127</td>\n",
              "      <td>-0.042127</td>\n",
              "      <td>-0.054942</td>\n",
              "      <td>2.900771e-02</td>\n",
              "      <td>-0.101806</td>\n",
              "      <td>0.194224</td>\n",
              "      <td>0.440102</td>\n",
              "      <td>1.000000</td>\n",
              "    </tr>\n",
              "  </tbody>\n",
              "</table>\n",
              "</div>\n",
              "      <button class=\"colab-df-convert\" onclick=\"convertToInteractive('df-03966665-7207-4473-8a0a-5a91a546f3d9')\"\n",
              "              title=\"Convert this dataframe to an interactive table.\"\n",
              "              style=\"display:none;\">\n",
              "        \n",
              "  <svg xmlns=\"http://www.w3.org/2000/svg\" height=\"24px\"viewBox=\"0 0 24 24\"\n",
              "       width=\"24px\">\n",
              "    <path d=\"M0 0h24v24H0V0z\" fill=\"none\"/>\n",
              "    <path d=\"M18.56 5.44l.94 2.06.94-2.06 2.06-.94-2.06-.94-.94-2.06-.94 2.06-2.06.94zm-11 1L8.5 8.5l.94-2.06 2.06-.94-2.06-.94L8.5 2.5l-.94 2.06-2.06.94zm10 10l.94 2.06.94-2.06 2.06-.94-2.06-.94-.94-2.06-.94 2.06-2.06.94z\"/><path d=\"M17.41 7.96l-1.37-1.37c-.4-.4-.92-.59-1.43-.59-.52 0-1.04.2-1.43.59L10.3 9.45l-7.72 7.72c-.78.78-.78 2.05 0 2.83L4 21.41c.39.39.9.59 1.41.59.51 0 1.02-.2 1.41-.59l7.78-7.78 2.81-2.81c.8-.78.8-2.07 0-2.86zM5.41 20L4 18.59l7.72-7.72 1.47 1.35L5.41 20z\"/>\n",
              "  </svg>\n",
              "      </button>\n",
              "      \n",
              "  <style>\n",
              "    .colab-df-container {\n",
              "      display:flex;\n",
              "      flex-wrap:wrap;\n",
              "      gap: 12px;\n",
              "    }\n",
              "\n",
              "    .colab-df-convert {\n",
              "      background-color: #E8F0FE;\n",
              "      border: none;\n",
              "      border-radius: 50%;\n",
              "      cursor: pointer;\n",
              "      display: none;\n",
              "      fill: #1967D2;\n",
              "      height: 32px;\n",
              "      padding: 0 0 0 0;\n",
              "      width: 32px;\n",
              "    }\n",
              "\n",
              "    .colab-df-convert:hover {\n",
              "      background-color: #E2EBFA;\n",
              "      box-shadow: 0px 1px 2px rgba(60, 64, 67, 0.3), 0px 1px 3px 1px rgba(60, 64, 67, 0.15);\n",
              "      fill: #174EA6;\n",
              "    }\n",
              "\n",
              "    [theme=dark] .colab-df-convert {\n",
              "      background-color: #3B4455;\n",
              "      fill: #D2E3FC;\n",
              "    }\n",
              "\n",
              "    [theme=dark] .colab-df-convert:hover {\n",
              "      background-color: #434B5C;\n",
              "      box-shadow: 0px 1px 3px 1px rgba(0, 0, 0, 0.15);\n",
              "      filter: drop-shadow(0px 1px 2px rgba(0, 0, 0, 0.3));\n",
              "      fill: #FFFFFF;\n",
              "    }\n",
              "  </style>\n",
              "\n",
              "      <script>\n",
              "        const buttonEl =\n",
              "          document.querySelector('#df-03966665-7207-4473-8a0a-5a91a546f3d9 button.colab-df-convert');\n",
              "        buttonEl.style.display =\n",
              "          google.colab.kernel.accessAllowed ? 'block' : 'none';\n",
              "\n",
              "        async function convertToInteractive(key) {\n",
              "          const element = document.querySelector('#df-03966665-7207-4473-8a0a-5a91a546f3d9');\n",
              "          const dataTable =\n",
              "            await google.colab.kernel.invokeFunction('convertToInteractive',\n",
              "                                                     [key], {});\n",
              "          if (!dataTable) return;\n",
              "\n",
              "          const docLinkHtml = 'Like what you see? Visit the ' +\n",
              "            '<a target=\"_blank\" href=https://colab.research.google.com/notebooks/data_table.ipynb>data table notebook</a>'\n",
              "            + ' to learn more about interactive tables.';\n",
              "          element.innerHTML = '';\n",
              "          dataTable['output_type'] = 'display_data';\n",
              "          await google.colab.output.renderOutput(dataTable, element);\n",
              "          const docLink = document.createElement('div');\n",
              "          docLink.innerHTML = docLinkHtml;\n",
              "          element.appendChild(docLink);\n",
              "        }\n",
              "      </script>\n",
              "    </div>\n",
              "  </div>\n",
              "  "
            ]
          },
          "metadata": {},
          "execution_count": 23
        }
      ]
    },
    {
      "cell_type": "code",
      "source": [
        "# обычно фильтруют\n",
        "\n",
        "df[['Temperature',\t'Humidity',\t'Wind speed',\t'Rainfall',\t'Snowfall']].corr()"
      ],
      "metadata": {
        "id": "6mogGqLIGInp",
        "colab": {
          "base_uri": "https://localhost:8080/",
          "height": 206
        },
        "outputId": "d1af6cd0-af37-470e-b4a6-c1d609aef949"
      },
      "execution_count": null,
      "outputs": [
        {
          "output_type": "execute_result",
          "data": {
            "text/plain": [
              "             Temperature  Humidity  Wind speed  Rainfall  Snowfall\n",
              "Temperature     1.000000  0.161933   -0.037797  0.050167 -0.220160\n",
              "Humidity        0.161933  1.000000   -0.336683  0.236397  0.108183\n",
              "Wind speed     -0.037797 -0.336683    1.000000 -0.019674 -0.003554\n",
              "Rainfall        0.050167  0.236397   -0.019674  1.000000  0.008500\n",
              "Snowfall       -0.220160  0.108183   -0.003554  0.008500  1.000000"
            ],
            "text/html": [
              "\n",
              "  <div id=\"df-e524b002-b897-4a68-9304-df22f51ec732\">\n",
              "    <div class=\"colab-df-container\">\n",
              "      <div>\n",
              "<style scoped>\n",
              "    .dataframe tbody tr th:only-of-type {\n",
              "        vertical-align: middle;\n",
              "    }\n",
              "\n",
              "    .dataframe tbody tr th {\n",
              "        vertical-align: top;\n",
              "    }\n",
              "\n",
              "    .dataframe thead th {\n",
              "        text-align: right;\n",
              "    }\n",
              "</style>\n",
              "<table border=\"1\" class=\"dataframe\">\n",
              "  <thead>\n",
              "    <tr style=\"text-align: right;\">\n",
              "      <th></th>\n",
              "      <th>Temperature</th>\n",
              "      <th>Humidity</th>\n",
              "      <th>Wind speed</th>\n",
              "      <th>Rainfall</th>\n",
              "      <th>Snowfall</th>\n",
              "    </tr>\n",
              "  </thead>\n",
              "  <tbody>\n",
              "    <tr>\n",
              "      <th>Temperature</th>\n",
              "      <td>1.000000</td>\n",
              "      <td>0.161933</td>\n",
              "      <td>-0.037797</td>\n",
              "      <td>0.050167</td>\n",
              "      <td>-0.220160</td>\n",
              "    </tr>\n",
              "    <tr>\n",
              "      <th>Humidity</th>\n",
              "      <td>0.161933</td>\n",
              "      <td>1.000000</td>\n",
              "      <td>-0.336683</td>\n",
              "      <td>0.236397</td>\n",
              "      <td>0.108183</td>\n",
              "    </tr>\n",
              "    <tr>\n",
              "      <th>Wind speed</th>\n",
              "      <td>-0.037797</td>\n",
              "      <td>-0.336683</td>\n",
              "      <td>1.000000</td>\n",
              "      <td>-0.019674</td>\n",
              "      <td>-0.003554</td>\n",
              "    </tr>\n",
              "    <tr>\n",
              "      <th>Rainfall</th>\n",
              "      <td>0.050167</td>\n",
              "      <td>0.236397</td>\n",
              "      <td>-0.019674</td>\n",
              "      <td>1.000000</td>\n",
              "      <td>0.008500</td>\n",
              "    </tr>\n",
              "    <tr>\n",
              "      <th>Snowfall</th>\n",
              "      <td>-0.220160</td>\n",
              "      <td>0.108183</td>\n",
              "      <td>-0.003554</td>\n",
              "      <td>0.008500</td>\n",
              "      <td>1.000000</td>\n",
              "    </tr>\n",
              "  </tbody>\n",
              "</table>\n",
              "</div>\n",
              "      <button class=\"colab-df-convert\" onclick=\"convertToInteractive('df-e524b002-b897-4a68-9304-df22f51ec732')\"\n",
              "              title=\"Convert this dataframe to an interactive table.\"\n",
              "              style=\"display:none;\">\n",
              "        \n",
              "  <svg xmlns=\"http://www.w3.org/2000/svg\" height=\"24px\"viewBox=\"0 0 24 24\"\n",
              "       width=\"24px\">\n",
              "    <path d=\"M0 0h24v24H0V0z\" fill=\"none\"/>\n",
              "    <path d=\"M18.56 5.44l.94 2.06.94-2.06 2.06-.94-2.06-.94-.94-2.06-.94 2.06-2.06.94zm-11 1L8.5 8.5l.94-2.06 2.06-.94-2.06-.94L8.5 2.5l-.94 2.06-2.06.94zm10 10l.94 2.06.94-2.06 2.06-.94-2.06-.94-.94-2.06-.94 2.06-2.06.94z\"/><path d=\"M17.41 7.96l-1.37-1.37c-.4-.4-.92-.59-1.43-.59-.52 0-1.04.2-1.43.59L10.3 9.45l-7.72 7.72c-.78.78-.78 2.05 0 2.83L4 21.41c.39.39.9.59 1.41.59.51 0 1.02-.2 1.41-.59l7.78-7.78 2.81-2.81c.8-.78.8-2.07 0-2.86zM5.41 20L4 18.59l7.72-7.72 1.47 1.35L5.41 20z\"/>\n",
              "  </svg>\n",
              "      </button>\n",
              "      \n",
              "  <style>\n",
              "    .colab-df-container {\n",
              "      display:flex;\n",
              "      flex-wrap:wrap;\n",
              "      gap: 12px;\n",
              "    }\n",
              "\n",
              "    .colab-df-convert {\n",
              "      background-color: #E8F0FE;\n",
              "      border: none;\n",
              "      border-radius: 50%;\n",
              "      cursor: pointer;\n",
              "      display: none;\n",
              "      fill: #1967D2;\n",
              "      height: 32px;\n",
              "      padding: 0 0 0 0;\n",
              "      width: 32px;\n",
              "    }\n",
              "\n",
              "    .colab-df-convert:hover {\n",
              "      background-color: #E2EBFA;\n",
              "      box-shadow: 0px 1px 2px rgba(60, 64, 67, 0.3), 0px 1px 3px 1px rgba(60, 64, 67, 0.15);\n",
              "      fill: #174EA6;\n",
              "    }\n",
              "\n",
              "    [theme=dark] .colab-df-convert {\n",
              "      background-color: #3B4455;\n",
              "      fill: #D2E3FC;\n",
              "    }\n",
              "\n",
              "    [theme=dark] .colab-df-convert:hover {\n",
              "      background-color: #434B5C;\n",
              "      box-shadow: 0px 1px 3px 1px rgba(0, 0, 0, 0.15);\n",
              "      filter: drop-shadow(0px 1px 2px rgba(0, 0, 0, 0.3));\n",
              "      fill: #FFFFFF;\n",
              "    }\n",
              "  </style>\n",
              "\n",
              "      <script>\n",
              "        const buttonEl =\n",
              "          document.querySelector('#df-e524b002-b897-4a68-9304-df22f51ec732 button.colab-df-convert');\n",
              "        buttonEl.style.display =\n",
              "          google.colab.kernel.accessAllowed ? 'block' : 'none';\n",
              "\n",
              "        async function convertToInteractive(key) {\n",
              "          const element = document.querySelector('#df-e524b002-b897-4a68-9304-df22f51ec732');\n",
              "          const dataTable =\n",
              "            await google.colab.kernel.invokeFunction('convertToInteractive',\n",
              "                                                     [key], {});\n",
              "          if (!dataTable) return;\n",
              "\n",
              "          const docLinkHtml = 'Like what you see? Visit the ' +\n",
              "            '<a target=\"_blank\" href=https://colab.research.google.com/notebooks/data_table.ipynb>data table notebook</a>'\n",
              "            + ' to learn more about interactive tables.';\n",
              "          element.innerHTML = '';\n",
              "          dataTable['output_type'] = 'display_data';\n",
              "          await google.colab.output.renderOutput(dataTable, element);\n",
              "          const docLink = document.createElement('div');\n",
              "          docLink.innerHTML = docLinkHtml;\n",
              "          element.appendChild(docLink);\n",
              "        }\n",
              "      </script>\n",
              "    </div>\n",
              "  </div>\n",
              "  "
            ]
          },
          "metadata": {},
          "execution_count": 24
        }
      ]
    },
    {
      "cell_type": "code",
      "source": [
        "df[['Temperature',\t'Humidity',\t'Wind speed',\t'Rainfall',\t'Snowfall']].corr().max()"
      ],
      "metadata": {
        "colab": {
          "base_uri": "https://localhost:8080/"
        },
        "id": "Pf_aWSF8aYZx",
        "outputId": "ad09f955-1eac-4764-d2c9-cf1870dab372"
      },
      "execution_count": null,
      "outputs": [
        {
          "output_type": "execute_result",
          "data": {
            "text/plain": [
              "Temperature    1.0\n",
              "Humidity       1.0\n",
              "Wind speed     1.0\n",
              "Rainfall       1.0\n",
              "Snowfall       1.0\n",
              "dtype: float64"
            ]
          },
          "metadata": {},
          "execution_count": 35
        }
      ]
    },
    {
      "cell_type": "code",
      "source": [
        "data = df[['Temperature',\t'Humidity',\t'Wind speed',\t'Rainfall',\t'Snowfall']].corr()\n",
        "data['Temperature'].sort_values()"
      ],
      "metadata": {
        "colab": {
          "base_uri": "https://localhost:8080/"
        },
        "id": "PBtCy6qegN6t",
        "outputId": "8a32f933-6353-4f72-a04c-b286fda6ca1d"
      },
      "execution_count": null,
      "outputs": [
        {
          "output_type": "execute_result",
          "data": {
            "text/plain": [
              "Snowfall      -0.220160\n",
              "Wind speed    -0.037797\n",
              "Rainfall       0.050167\n",
              "Humidity       0.161933\n",
              "Temperature    1.000000\n",
              "Name: Temperature, dtype: float64"
            ]
          },
          "metadata": {},
          "execution_count": 49
        }
      ]
    },
    {
      "cell_type": "code",
      "source": [
        "# очень распространенная визуализация - тепловая карта\n",
        "# https://seaborn.pydata.org/generated/seaborn.heatmap.html\n",
        "sns.heatmap(df[['Temperature',\t'Humidity',\t'Wind speed',\t'Rainfall',\t'Snowfall']].corr());"
      ],
      "metadata": {
        "id": "YfH8S-3oHw2w",
        "colab": {
          "base_uri": "https://localhost:8080/",
          "height": 435
        },
        "outputId": "92edacc9-40d1-4476-a5bb-820ee04192ff"
      },
      "execution_count": null,
      "outputs": [
        {
          "output_type": "display_data",
          "data": {
            "text/plain": [
              "<Figure size 640x480 with 2 Axes>"
            ],
            "image/png": "[encoded data removed]"
          },
          "metadata": {}
        }
      ]
    },
    {
      "cell_type": "code",
      "source": [
        "# давайте ее еще немного настроим\n",
        "sns.heatmap(df[['Temperature',\t'Humidity',\t'Wind speed',\t'Rainfall',\t'Snowfall']].corr(), cmap='RdYlGn', center=0, annot=True)\n",
        "plt.title('Correlogram', fontsize=22);\n"
      ],
      "metadata": {
        "id": "9TX_12x2H28L",
        "colab": {
          "base_uri": "https://localhost:8080/",
          "height": 461
        },
        "outputId": "a3edf4a5-5dea-4ec1-cfac-3ad5ba874c54"
      },
      "execution_count": null,
      "outputs": [
        {
          "output_type": "display_data",
          "data": {
            "text/plain": [
              "<Figure size 640x480 with 2 Axes>"
            ],
            "image/png": "[encoded data removed]"
          },
          "metadata": {}
        }
      ]
    },
    {
      "cell_type": "markdown",
      "source": [
        "### таблицы сопряженности"
      ],
      "metadata": {
        "id": "FyEgDU_HFeKF"
      }
    },
    {
      "cell_type": "markdown",
      "source": [
        "Для работы с категориальными данными придется поступать по-другому"
      ],
      "metadata": {
        "id": "X-efbER_FqbC"
      }
    },
    {
      "cell_type": "code",
      "source": [
        "df[['Seasons', 'Temperature Category']].corr() # нельзя! данные - категориальные"
      ],
      "metadata": {
        "colab": {
          "base_uri": "https://localhost:8080/",
          "height": 49
        },
        "id": "fiApHQ4MYdkA",
        "outputId": "d7919632-7e66-4224-937d-af904c3ffedd"
      },
      "execution_count": null,
      "outputs": [
        {
          "output_type": "execute_result",
          "data": {
            "text/plain": [
              "Empty DataFrame\n",
              "Columns: []\n",
              "Index: []"
            ],
            "text/html": [
              "\n",
              "  <div id=\"df-9f3145c2-f167-42ab-9869-1486baf5fdd2\">\n",
              "    <div class=\"colab-df-container\">\n",
              "      <div>\n",
              "<style scoped>\n",
              "    .dataframe tbody tr th:only-of-type {\n",
              "        vertical-align: middle;\n",
              "    }\n",
              "\n",
              "    .dataframe tbody tr th {\n",
              "        vertical-align: top;\n",
              "    }\n",
              "\n",
              "    .dataframe thead th {\n",
              "        text-align: right;\n",
              "    }\n",
              "</style>\n",
              "<table border=\"1\" class=\"dataframe\">\n",
              "  <thead>\n",
              "    <tr style=\"text-align: right;\">\n",
              "      <th></th>\n",
              "    </tr>\n",
              "  </thead>\n",
              "  <tbody>\n",
              "  </tbody>\n",
              "</table>\n",
              "</div>\n",
              "      <button class=\"colab-df-convert\" onclick=\"convertToInteractive('df-9f3145c2-f167-42ab-9869-1486baf5fdd2')\"\n",
              "              title=\"Convert this dataframe to an interactive table.\"\n",
              "              style=\"display:none;\">\n",
              "        \n",
              "  <svg xmlns=\"http://www.w3.org/2000/svg\" height=\"24px\"viewBox=\"0 0 24 24\"\n",
              "       width=\"24px\">\n",
              "    <path d=\"M0 0h24v24H0V0z\" fill=\"none\"/>\n",
              "    <path d=\"M18.56 5.44l.94 2.06.94-2.06 2.06-.94-2.06-.94-.94-2.06-.94 2.06-2.06.94zm-11 1L8.5 8.5l.94-2.06 2.06-.94-2.06-.94L8.5 2.5l-.94 2.06-2.06.94zm10 10l.94 2.06.94-2.06 2.06-.94-2.06-.94-.94-2.06-.94 2.06-2.06.94z\"/><path d=\"M17.41 7.96l-1.37-1.37c-.4-.4-.92-.59-1.43-.59-.52 0-1.04.2-1.43.59L10.3 9.45l-7.72 7.72c-.78.78-.78 2.05 0 2.83L4 21.41c.39.39.9.59 1.41.59.51 0 1.02-.2 1.41-.59l7.78-7.78 2.81-2.81c.8-.78.8-2.07 0-2.86zM5.41 20L4 18.59l7.72-7.72 1.47 1.35L5.41 20z\"/>\n",
              "  </svg>\n",
              "      </button>\n",
              "      \n",
              "  <style>\n",
              "    .colab-df-container {\n",
              "      display:flex;\n",
              "      flex-wrap:wrap;\n",
              "      gap: 12px;\n",
              "    }\n",
              "\n",
              "    .colab-df-convert {\n",
              "      background-color: #E8F0FE;\n",
              "      border: none;\n",
              "      border-radius: 50%;\n",
              "      cursor: pointer;\n",
              "      display: none;\n",
              "      fill: #1967D2;\n",
              "      height: 32px;\n",
              "      padding: 0 0 0 0;\n",
              "      width: 32px;\n",
              "    }\n",
              "\n",
              "    .colab-df-convert:hover {\n",
              "      background-color: #E2EBFA;\n",
              "      box-shadow: 0px 1px 2px rgba(60, 64, 67, 0.3), 0px 1px 3px 1px rgba(60, 64, 67, 0.15);\n",
              "      fill: #174EA6;\n",
              "    }\n",
              "\n",
              "    [theme=dark] .colab-df-convert {\n",
              "      background-color: #3B4455;\n",
              "      fill: #D2E3FC;\n",
              "    }\n",
              "\n",
              "    [theme=dark] .colab-df-convert:hover {\n",
              "      background-color: #434B5C;\n",
              "      box-shadow: 0px 1px 3px 1px rgba(0, 0, 0, 0.15);\n",
              "      filter: drop-shadow(0px 1px 2px rgba(0, 0, 0, 0.3));\n",
              "      fill: #FFFFFF;\n",
              "    }\n",
              "  </style>\n",
              "\n",
              "      <script>\n",
              "        const buttonEl =\n",
              "          document.querySelector('#df-9f3145c2-f167-42ab-9869-1486baf5fdd2 button.colab-df-convert');\n",
              "        buttonEl.style.display =\n",
              "          google.colab.kernel.accessAllowed ? 'block' : 'none';\n",
              "\n",
              "        async function convertToInteractive(key) {\n",
              "          const element = document.querySelector('#df-9f3145c2-f167-42ab-9869-1486baf5fdd2');\n",
              "          const dataTable =\n",
              "            await google.colab.kernel.invokeFunction('convertToInteractive',\n",
              "                                                     [key], {});\n",
              "          if (!dataTable) return;\n",
              "\n",
              "          const docLinkHtml = 'Like what you see? Visit the ' +\n",
              "            '<a target=\"_blank\" href=https://colab.research.google.com/notebooks/data_table.ipynb>data table notebook</a>'\n",
              "            + ' to learn more about interactive tables.';\n",
              "          element.innerHTML = '';\n",
              "          dataTable['output_type'] = 'display_data';\n",
              "          await google.colab.output.renderOutput(dataTable, element);\n",
              "          const docLink = document.createElement('div');\n",
              "          docLink.innerHTML = docLinkHtml;\n",
              "          element.appendChild(docLink);\n",
              "        }\n",
              "      </script>\n",
              "    </div>\n",
              "  </div>\n",
              "  "
            ]
          },
          "metadata": {},
          "execution_count": 27
        }
      ]
    },
    {
      "cell_type": "code",
      "source": [
        "df_cat = pd.crosstab(df['Seasons'], df['Temperature Category']) # пока без промежуточных и итоговых сумм\n",
        "df_cat"
      ],
      "metadata": {
        "id": "C3ObS-8tFgfq",
        "colab": {
          "base_uri": "https://localhost:8080/",
          "height": 206
        },
        "outputId": "9a38e8b6-8a5d-4c91-9451-8243f260c43e"
      },
      "execution_count": null,
      "outputs": [
        {
          "output_type": "execute_result",
          "data": {
            "text/plain": [
              "Temperature Category  Chilly  Freezing   Hot  Nice\n",
              "Seasons                                           \n",
              "Autumn                  1138        20    86   894\n",
              "Spring                  1224        22    27   881\n",
              "Summer                     0         0  1166  1003\n",
              "Winter                   750      1370     0     0"
            ],
            "text/html": [
              "\n",
              "  <div id=\"df-41acb0ca-bf94-49ca-a97d-a33607b792be\">\n",
              "    <div class=\"colab-df-container\">\n",
              "      <div>\n",
              "<style scoped>\n",
              "    .dataframe tbody tr th:only-of-type {\n",
              "        vertical-align: middle;\n",
              "    }\n",
              "\n",
              "    .dataframe tbody tr th {\n",
              "        vertical-align: top;\n",
              "    }\n",
              "\n",
              "    .dataframe thead th {\n",
              "        text-align: right;\n",
              "    }\n",
              "</style>\n",
              "<table border=\"1\" class=\"dataframe\">\n",
              "  <thead>\n",
              "    <tr style=\"text-align: right;\">\n",
              "      <th>Temperature Category</th>\n",
              "      <th>Chilly</th>\n",
              "      <th>Freezing</th>\n",
              "      <th>Hot</th>\n",
              "      <th>Nice</th>\n",
              "    </tr>\n",
              "    <tr>\n",
              "      <th>Seasons</th>\n",
              "      <th></th>\n",
              "      <th></th>\n",
              "      <th></th>\n",
              "      <th></th>\n",
              "    </tr>\n",
              "  </thead>\n",
              "  <tbody>\n",
              "    <tr>\n",
              "      <th>Autumn</th>\n",
              "      <td>1138</td>\n",
              "      <td>20</td>\n",
              "      <td>86</td>\n",
              "      <td>894</td>\n",
              "    </tr>\n",
              "    <tr>\n",
              "      <th>Spring</th>\n",
              "      <td>1224</td>\n",
              "      <td>22</td>\n",
              "      <td>27</td>\n",
              "      <td>881</td>\n",
              "    </tr>\n",
              "    <tr>\n",
              "      <th>Summer</th>\n",
              "      <td>0</td>\n",
              "      <td>0</td>\n",
              "      <td>1166</td>\n",
              "      <td>1003</td>\n",
              "    </tr>\n",
              "    <tr>\n",
              "      <th>Winter</th>\n",
              "      <td>750</td>\n",
              "      <td>1370</td>\n",
              "      <td>0</td>\n",
              "      <td>0</td>\n",
              "    </tr>\n",
              "  </tbody>\n",
              "</table>\n",
              "</div>\n",
              "      <button class=\"colab-df-convert\" onclick=\"convertToInteractive('df-41acb0ca-bf94-49ca-a97d-a33607b792be')\"\n",
              "              title=\"Convert this dataframe to an interactive table.\"\n",
              "              style=\"display:none;\">\n",
              "        \n",
              "  <svg xmlns=\"http://www.w3.org/2000/svg\" height=\"24px\"viewBox=\"0 0 24 24\"\n",
              "       width=\"24px\">\n",
              "    <path d=\"M0 0h24v24H0V0z\" fill=\"none\"/>\n",
              "    <path d=\"M18.56 5.44l.94 2.06.94-2.06 2.06-.94-2.06-.94-.94-2.06-.94 2.06-2.06.94zm-11 1L8.5 8.5l.94-2.06 2.06-.94-2.06-.94L8.5 2.5l-.94 2.06-2.06.94zm10 10l.94 2.06.94-2.06 2.06-.94-2.06-.94-.94-2.06-.94 2.06-2.06.94z\"/><path d=\"M17.41 7.96l-1.37-1.37c-.4-.4-.92-.59-1.43-.59-.52 0-1.04.2-1.43.59L10.3 9.45l-7.72 7.72c-.78.78-.78 2.05 0 2.83L4 21.41c.39.39.9.59 1.41.59.51 0 1.02-.2 1.41-.59l7.78-7.78 2.81-2.81c.8-.78.8-2.07 0-2.86zM5.41 20L4 18.59l7.72-7.72 1.47 1.35L5.41 20z\"/>\n",
              "  </svg>\n",
              "      </button>\n",
              "      \n",
              "  <style>\n",
              "    .colab-df-container {\n",
              "      display:flex;\n",
              "      flex-wrap:wrap;\n",
              "      gap: 12px;\n",
              "    }\n",
              "\n",
              "    .colab-df-convert {\n",
              "      background-color: #E8F0FE;\n",
              "      border: none;\n",
              "      border-radius: 50%;\n",
              "      cursor: pointer;\n",
              "      display: none;\n",
              "      fill: #1967D2;\n",
              "      height: 32px;\n",
              "      padding: 0 0 0 0;\n",
              "      width: 32px;\n",
              "    }\n",
              "\n",
              "    .colab-df-convert:hover {\n",
              "      background-color: #E2EBFA;\n",
              "      box-shadow: 0px 1px 2px rgba(60, 64, 67, 0.3), 0px 1px 3px 1px rgba(60, 64, 67, 0.15);\n",
              "      fill: #174EA6;\n",
              "    }\n",
              "\n",
              "    [theme=dark] .colab-df-convert {\n",
              "      background-color: #3B4455;\n",
              "      fill: #D2E3FC;\n",
              "    }\n",
              "\n",
              "    [theme=dark] .colab-df-convert:hover {\n",
              "      background-color: #434B5C;\n",
              "      box-shadow: 0px 1px 3px 1px rgba(0, 0, 0, 0.15);\n",
              "      filter: drop-shadow(0px 1px 2px rgba(0, 0, 0, 0.3));\n",
              "      fill: #FFFFFF;\n",
              "    }\n",
              "  </style>\n",
              "\n",
              "      <script>\n",
              "        const buttonEl =\n",
              "          document.querySelector('#df-41acb0ca-bf94-49ca-a97d-a33607b792be button.colab-df-convert');\n",
              "        buttonEl.style.display =\n",
              "          google.colab.kernel.accessAllowed ? 'block' : 'none';\n",
              "\n",
              "        async function convertToInteractive(key) {\n",
              "          const element = document.querySelector('#df-41acb0ca-bf94-49ca-a97d-a33607b792be');\n",
              "          const dataTable =\n",
              "            await google.colab.kernel.invokeFunction('convertToInteractive',\n",
              "                                                     [key], {});\n",
              "          if (!dataTable) return;\n",
              "\n",
              "          const docLinkHtml = 'Like what you see? Visit the ' +\n",
              "            '<a target=\"_blank\" href=https://colab.research.google.com/notebooks/data_table.ipynb>data table notebook</a>'\n",
              "            + ' to learn more about interactive tables.';\n",
              "          element.innerHTML = '';\n",
              "          dataTable['output_type'] = 'display_data';\n",
              "          await google.colab.output.renderOutput(dataTable, element);\n",
              "          const docLink = document.createElement('div');\n",
              "          docLink.innerHTML = docLinkHtml;\n",
              "          element.appendChild(docLink);\n",
              "        }\n",
              "      </script>\n",
              "    </div>\n",
              "  </div>\n",
              "  "
            ]
          },
          "metadata": {},
          "execution_count": 28
        }
      ]
    },
    {
      "cell_type": "code",
      "source": [
        "stats.chi2_contingency(df_cat)"
      ],
      "metadata": {
        "id": "t1NA4zYCJMnd",
        "colab": {
          "base_uri": "https://localhost:8080/"
        },
        "outputId": "b68d6924-0976-4e82-d258-444eb5f6e183"
      },
      "execution_count": null,
      "outputs": [
        {
          "output_type": "execute_result",
          "data": {
            "text/plain": [
              "Chi2ContingencyResult(statistic=9052.81043676272, pvalue=0.0, dof=9, expected_freq=array([[775.37070272, 351.8070155 , 318.66938585, 692.15289593],\n",
              "       [781.17328983, 354.43980888, 321.05418949, 697.33271181],\n",
              "       [786.61321524, 356.90805267, 323.2899429 , 702.18878919],\n",
              "       [768.84279222, 348.84512295, 315.98648176, 686.32560308]]))"
            ]
          },
          "metadata": {},
          "execution_count": 29
        }
      ]
    },
    {
      "cell_type": "markdown",
      "source": [
        "### Что это и как читать результат?\n",
        "\n",
        "Категориальные данные представлять числами некорректно - но для них можно составить частотную таблицу.\n",
        "\n",
        "Далее будем проверять критерий хи-квадрат независимости Пирсона (внимание! критериев хи-квадрат - несколько, а основанных на них метрик - еще больше (точный тест Фишера, коэффициент корреляции Крамера и др.)\n",
        "\n",
        "Когда работаем с критерием хи-квадрат независимости, общая идея такая:\n",
        "\n",
        "* нулевая гипотеза: переменные независимы друг от друга\n",
        "\n",
        "* альтернативная гипотеза: между переменными есть связь\n",
        "\n",
        "* если pvalue <= 0.05, значит, нулевая гипотеза отвергается, переменные связаны\n",
        "\n",
        "* если pvalue > 0.05, отвегрнуть нулевую гипотезу нельзя, переменные независимы друг от друга"
      ],
      "metadata": {
        "id": "tAdo-JTrJd0c"
      }
    },
    {
      "cell_type": "code",
      "source": [
        "def vcramer(table):\n",
        "    chi, p, _, _ = stats.chi2_contingency(table,correction=False)\n",
        "    n = table.sum()\n",
        "    r,c = table.shape\n",
        "    return np.sqrt(chi/(n*(min(r,c)-1.))), p\n",
        "\n",
        "vcramer(df_cat.values)\n",
        "# Крамер - коэффициент корреляции для категориальных данных\n",
        "# Правда идеальный вариант - когда его считают к таблице 2 на 2, так результат точнее"
      ],
      "metadata": {
        "id": "ao9SspC9KGBD",
        "colab": {
          "base_uri": "https://localhost:8080/"
        },
        "outputId": "47615458-7791-4df8-baff-d465a21ce0d3"
      },
      "execution_count": null,
      "outputs": [
        {
          "output_type": "execute_result",
          "data": {
            "text/plain": [
              "(0.5930101609869638, 0.0)"
            ]
          },
          "metadata": {},
          "execution_count": 30
        }
      ]
    }
  ]
}