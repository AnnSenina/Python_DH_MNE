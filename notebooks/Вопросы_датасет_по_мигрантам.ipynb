{
  "nbformat": 4,
  "nbformat_minor": 0,
  "metadata": {
    "colab": {
      "provenance": [],
      "authorship_tag": "ABX9TyNn1+4Asq/v3/OtFdfCcXS/",
      "include_colab_link": true
    },
    "kernelspec": {
      "name": "python3",
      "display_name": "Python 3"
    },
    "language_info": {
      "name": "python"
    }
  },
  "cells": [
    {
      "cell_type": "markdown",
      "metadata": {
        "id": "view-in-github",
        "colab_type": "text"
      },
      "source": [
        "<a href=\"https://colab.research.google.com/github/AnnSenina/Python_DH_MNE/blob/main/notebooks/%D0%92%D0%BE%D0%BF%D1%80%D0%BE%D1%81%D1%8B_%D0%B4%D0%B0%D1%82%D0%B0%D1%81%D0%B5%D1%82_%D0%BF%D0%BE_%D0%BC%D0%B8%D0%B3%D1%80%D0%B0%D0%BD%D1%82%D0%B0%D0%BC.ipynb\" target=\"_parent\"><img src=\"https://colab.research.google.com/assets/colab-badge.svg\" alt=\"Open In Colab\"/></a>"
      ]
    },
    {
      "cell_type": "markdown",
      "source": [
        "# Pandas. Работа с датасетами"
      ],
      "metadata": {
        "id": "Rgt0jRMai-61"
      }
    },
    {
      "cell_type": "code",
      "execution_count": null,
      "metadata": {
        "id": "Dn_-Io07-a7z"
      },
      "outputs": [],
      "source": [
        "import pandas as pd\n",
        "\n",
        "df = pd.read_csv('https://raw.githubusercontent.com/AnnSenina/Python_DH_MNE/main/datasets/Migrants.csv')\n",
        "df"
      ]
    },
    {
      "cell_type": "code",
      "source": [
        "df.info() # расскажет информацию о каждом столбце"
      ],
      "metadata": {
        "id": "ueJgrQk7jFWY"
      },
      "execution_count": null,
      "outputs": []
    },
    {
      "cell_type": "code",
      "source": [
        "df['Country of Origin'] # выбор одной колонки"
      ],
      "metadata": {
        "id": "a8D80S-jjLj7"
      },
      "execution_count": null,
      "outputs": []
    },
    {
      "cell_type": "code",
      "source": [
        "df['Country of Origin'].value_counts() # создание частотной таблицы:\n",
        "# сколько раз встречается каждое значение"
      ],
      "metadata": {
        "id": "hDVhNJfc-qWt"
      },
      "execution_count": null,
      "outputs": []
    },
    {
      "cell_type": "code",
      "source": [
        "# фильтр работает так: df[  внутри условия для фильтрации  ]\n",
        "# df[     df[\"столбец\"]  == 0      ] # покажи только те строки из df, где значения по столбцу равны 0\n",
        "df[df['Number of Survivors'] > 1]"
      ],
      "metadata": {
        "id": "Y-sp6wPa-var"
      },
      "execution_count": null,
      "outputs": []
    },
    {
      "cell_type": "code",
      "source": [
        "# эти команды можно сочетать: отфильтруй и посчитай частоты по столбцу\n",
        "df[df['Number of Children'] > 1]['Cause of Death'].value_counts()"
      ],
      "metadata": {
        "id": "Y9ewhGKM_NPD"
      },
      "execution_count": null,
      "outputs": []
    },
    {
      "cell_type": "markdown",
      "source": [
        "# Вопросы к данным:\n",
        "\n",
        "1. Постройте частотную таблицу по столбцу \"Incident year\". Что можно сказать о данных за 2023 год? Количество происшествий уменьшилось по сравнению с прошлым годом?\n",
        "2. В каких регионах (Region of Incident) происходит больше всего происшествий?\n",
        "3. В каком регионе (Region of Incident) больше всего происшествий с неизвестной причиной смерти (Cause of Death - Mixed or unknown)?"
      ],
      "metadata": {
        "id": "XX7R790Tj7m5"
      }
    },
    {
      "cell_type": "code",
      "source": [],
      "metadata": {
        "id": "kcYFIno0lYkm"
      },
      "execution_count": null,
      "outputs": []
    },
    {
      "cell_type": "code",
      "source": [],
      "metadata": {
        "id": "qFWtuKhPlYfQ"
      },
      "execution_count": null,
      "outputs": []
    },
    {
      "cell_type": "code",
      "source": [],
      "metadata": {
        "id": "ZnbS80TTlYYy"
      },
      "execution_count": null,
      "outputs": []
    }
  ]
}