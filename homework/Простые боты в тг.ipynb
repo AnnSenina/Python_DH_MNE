{
  "nbformat": 4,
  "nbformat_minor": 0,
  "metadata": {
    "colab": {
      "provenance": [],
      "include_colab_link": true
    },
    "kernelspec": {
      "name": "python3",
      "display_name": "Python 3"
    },
    "language_info": {
      "name": "python"
    }
  },
  "cells": [
    {
      "cell_type": "markdown",
      "metadata": {
        "id": "view-in-github",
        "colab_type": "text"
      },
      "source": [
        "<a href=\"https://colab.research.google.com/github/AnnSenina/Python_DH_MNE/blob/main/homework/%D0%9F%D1%80%D0%BE%D1%81%D1%82%D1%8B%D0%B5%20%D0%B1%D0%BE%D1%82%D1%8B%20%D0%B2%20%D1%82%D0%B3.ipynb\" target=\"_parent\"><img src=\"https://colab.research.google.com/assets/colab-badge.svg\" alt=\"Open In Colab\"/></a>"
      ]
    },
    {
      "cell_type": "markdown",
      "source": [
        "# Чат-боты\n",
        "\n",
        "Для настроения, сначала смотрим [ролик](https://www.youtube.com/watch?v=M1sQmZrDBz4) (Из сериала \"Детство Шелдона\", один из первых чат-ботов Eliza)\n",
        "\n",
        "А вот [забавная имитация](https://web.njit.edu/~ronkowit/eliza.html) Элайзы"
      ],
      "metadata": {
        "id": "DFb4Bi3cMZcG"
      }
    },
    {
      "cell_type": "markdown",
      "source": [
        "## Установим библиотеки\n",
        "\n",
        "Документация этой библиотеки [здесь](https://pytba.readthedocs.io/ru/latest/sync_version/index.html)\n",
        "\n",
        "Просто запустите команды ниже"
      ],
      "metadata": {
        "id": "uTNXlsUjSWXG"
      }
    },
    {
      "cell_type": "code",
      "source": [
        "!pip install pytelegrambotapi"
      ],
      "metadata": {
        "id": "oLDarhv4zTC9"
      },
      "execution_count": null,
      "outputs": []
    },
    {
      "cell_type": "code",
      "source": [
        "import telebot\n",
        "from telebot import types"
      ],
      "metadata": {
        "id": "lu0qni_aL-Gz"
      },
      "execution_count": null,
      "outputs": []
    },
    {
      "cell_type": "markdown",
      "source": [
        "Создайте бота в телеграме с помощью @BotFather https://t.me/BotFather\n",
        "\n",
        "Получите у него токен"
      ],
      "metadata": {
        "id": "0K7FQ2jJSkPt"
      }
    },
    {
      "cell_type": "code",
      "source": [
        "#@title Вставьте токен бота сюда и нажмите слева запуск\n",
        "your_bot = \"\" #@param {type:\"string\"}\n",
        "print('Ваш готов к запуску, проверьте в tg!\\n(Правда нужно сначала научить его общаться)')"
      ],
      "metadata": {
        "id": "kxBnmAe4lB8B",
        "cellView": "form"
      },
      "execution_count": null,
      "outputs": []
    },
    {
      "cell_type": "code",
      "source": [
        "# эту команду обязательно запускаем перед тем, как научить бот чему-то новому\n",
        "bot = telebot.TeleBot(your_bot)"
      ],
      "metadata": {
        "id": "Mw9mlWGMSjXn"
      },
      "execution_count": null,
      "outputs": []
    },
    {
      "cell_type": "code",
      "source": [
        "# научим бота отвечать на команду /start\n",
        "@bot.message_handler(commands=[\"start\"])\n",
        "def start(message, res=False):\n",
        "  bot.send_message(message.chat.id, 'Добрый день! Это пробный бот марафона Homo Digitus. Давайте посмотрим, как это работает :)')"
      ],
      "metadata": {
        "id": "dTmJ0cR9VGV-"
      },
      "execution_count": null,
      "outputs": []
    },
    {
      "cell_type": "code",
      "source": [
        "# Запускаем бота\n",
        "bot.polling(none_stop=True, interval=0)"
      ],
      "metadata": {
        "id": "oksejD3Jo1I_"
      },
      "execution_count": null,
      "outputs": []
    },
    {
      "cell_type": "markdown",
      "source": [
        "## Что умеет бот?"
      ],
      "metadata": {
        "id": "gVq5Pq3qS4A6"
      }
    },
    {
      "cell_type": "markdown",
      "source": [
        "## 1. Отправлять сообщения (пока текстовые)"
      ],
      "metadata": {
        "id": "rx75mHOyKKXx"
      }
    },
    {
      "cell_type": "markdown",
      "source": [
        "Например, пусть бот кратко рассказывает о сегодняшней встрече"
      ],
      "metadata": {
        "id": "0-sLEkBnS7FL"
      }
    },
    {
      "cell_type": "code",
      "source": [
        "# создадим переменные = сообщения, который наш бот будет отправлять\n",
        "text1 = 'Продумайте сценарий вашего бота: лучше нарисуйте схему его работы - это поможет'\n",
        "text2 = 'Если требуется реализовать что-то более сложное: скорее зовите лектора, подумаем вместе'\n",
        "text3 = 'Бот должен уметь общаться с пользователем: всегда думайте о пользователе'\n",
        "text4 = 'В любой исторической теме можно найти интересный сюжет!'\n",
        "text5 = 'После просмотра примеров проведем мини-презентацию работ: потестируем ваших ботов!'\n",
        "text6 = '(∩｀-´)⊃━☆ﾟ.*･｡ﾟ'\n",
        "text7 = 'Я не понимаю тебя, напиши слово: Помощь'"
      ],
      "metadata": {
        "id": "AA7iE2CBS3xS"
      },
      "execution_count": null,
      "outputs": []
    },
    {
      "cell_type": "code",
      "source": [
        "# Обновите доступ через токен\n",
        "bot = telebot.TeleBot(your_bot)"
      ],
      "metadata": {
        "id": "47CB6lO50lKQ"
      },
      "execution_count": null,
      "outputs": []
    },
    {
      "cell_type": "code",
      "source": [
        "@bot.message_handler(commands=[\"start\"])\n",
        "def start(message, res=False):\n",
        "  bot.send_message(message.chat.id, 'Добрый день! Это пробный бот занятия. Давайте посмотрим, как это работает :) \\nНапиши: Помощь')\n",
        "\n",
        "@bot.message_handler(content_types=[\"text\"])\n",
        "def handle_text(message):\n",
        "  if message.text.strip().lower() in ['помощь', 'помощь.', 'помощь!', 'help']: # эту команду можно немножко улучшить\n",
        "    bot.send_message(message.chat.id, text1) # наше первое сообщение!\n",
        "    bot.send_message(message.chat.id, text2)\n",
        "    bot.send_message(message.chat.id, text3)\n",
        "    bot.send_message(message.chat.id, text4)\n",
        "    bot.send_message(message.chat.id, text5)\n",
        "    bot.send_message(message.chat.id, text6)\n",
        "  else:\n",
        "    bot.send_message(message.chat.id, text7) # последнее собщение, альтернативный исход\n",
        "\n",
        "# не забудьте запустить бота! Ниже:"
      ],
      "metadata": {
        "id": "1FiFaPynU87i"
      },
      "execution_count": null,
      "outputs": []
    },
    {
      "cell_type": "code",
      "source": [
        "# Запускаем бота\n",
        "bot.polling(none_stop=True, interval=0)"
      ],
      "metadata": {
        "id": "jJwNhUrkycze"
      },
      "execution_count": null,
      "outputs": []
    },
    {
      "cell_type": "markdown",
      "source": [
        "### Эхо-бот\n",
        "\n",
        "Повторяет всё"
      ],
      "metadata": {
        "id": "ApJ5u8KK63TT"
      }
    },
    {
      "cell_type": "code",
      "source": [
        "bot = telebot.TeleBot(your_bot)\n",
        "\n",
        "@bot.message_handler(commands=[\"start\"])\n",
        "def start(message, res=False):\n",
        "  bot.send_message(message.chat.id, 'Добрый день! Перед вами эхо-бот. Он просто повторяет ваши сообщения')\n",
        "\n",
        "@bot.message_handler(content_types=[\"text\"])\n",
        "def handle_text(message):\n",
        "  bot.send_message(message.chat.id, 'Ваше сообщение: ' + message.text)\n",
        "\n",
        "bot.polling(none_stop=True, interval=0)"
      ],
      "metadata": {
        "id": "m6WpF2N2624i"
      },
      "execution_count": null,
      "outputs": []
    },
    {
      "cell_type": "markdown",
      "source": [
        "## 2. Сохранять информацию\n",
        "\n",
        "Некий бонус, но давайте посмотрим его сразу\n",
        "\n",
        "Бот можно научить сохранять часть информации о пользователе и его сообщения"
      ],
      "metadata": {
        "id": "tAPCEbeYJqm_"
      }
    },
    {
      "cell_type": "code",
      "source": [
        "# давайте создадим csv-файл (табличку), пока пустую\n",
        "with open('users.csv', 'w', encoding='utf-8') as f:\n",
        "    print(*['id', 'first_name', 'last_name', 'nickname', 'message'], sep='\\t', file=f)\n",
        "\n",
        "# а теперь научим бот сохранять сообщения\n",
        "# только давайте предупредим пользователя, что его сообщения записываются"
      ],
      "metadata": {
        "id": "VU2oGQsB2yrG"
      },
      "execution_count": null,
      "outputs": []
    },
    {
      "cell_type": "code",
      "source": [
        "# Обновите доступ через токен\n",
        "bot = telebot.TeleBot(your_bot)\n",
        "\n",
        "@bot.message_handler(commands=[\"start\"])\n",
        "def start(message):\n",
        "  bot.send_message(message.chat.id, 'Добрый день! Этот бот будет собирать информацию о пользователе')\n",
        "  bot.send_message(message.chat.id, 'Оправляйте сообщения, а затем ведущий встречи покажет их на экране')\n",
        "\n",
        "@bot.message_handler(content_types=[\"text\"])\n",
        "def handle_text(message):\n",
        "  user = message.chat.id, message.from_user.first_name, message.from_user.last_name, message.from_user.username, message.text\n",
        "  with open('users.csv', 'a', encoding='utf-8') as f:\n",
        "    print(*user, sep='\\t', file=f)\n",
        "\n",
        "  # пока бот работает, информация записыватся в файл...\n",
        "\n",
        "# Запускаем бота\n",
        "bot.polling(none_stop=True, interval=0)"
      ],
      "metadata": {
        "id": "aT5YiadlyFAS"
      },
      "execution_count": null,
      "outputs": []
    },
    {
      "cell_type": "code",
      "source": [
        "# а вот эти команды помогут удобно прочитать наш файл с помощью чудесной библиотеки для работы с датафреймами (таблицами)\n",
        "import pandas as pd\n",
        "df_user = pd.read_csv('users.csv', sep='\\t')\n",
        "df_user"
      ],
      "metadata": {
        "id": "9iaROngG5EnJ",
        "colab": {
          "base_uri": "https://localhost:8080/",
          "height": 519
        },
        "outputId": "6e7442f7-d651-47d4-e164-b702c02305ac"
      },
      "execution_count": null,
      "outputs": [
        {
          "output_type": "execute_result",
          "data": {
            "text/plain": [
              "            id first_name  last_name             nickname  \\\n",
              "0   1800056730       Майя   Андреева            maystar77   \n",
              "1    674649097       Анна     Сенина             avsenina   \n",
              "2    377571930  Анастасия   Иваненко   AnastasiiaIvanenko   \n",
              "3    958762914     Iliana  Ismakaeva           iismakaeva   \n",
              "4    674649097       Анна     Сенина             avsenina   \n",
              "5    417443814     Никита     Маткин  armand_de_richelieu   \n",
              "6    674649097       Анна     Сенина             avsenina   \n",
              "7    674649097       Анна     Сенина             avsenina   \n",
              "8     45195525     Nikita    Kushkin        SundanceKid78   \n",
              "9    417443814     Никита     Маткин  armand_de_richelieu   \n",
              "10  1088321102    Razilya   Sagirova          seviyorumka   \n",
              "11  1073175113      Алена     Щукина                 None   \n",
              "12   449933883  Anastasia       None              adudova   \n",
              "13  1088321102    Razilya   Sagirova          seviyorumka   \n",
              "14  1800056730       Майя   Андреева            maystar77   \n",
              "\n",
              "                                              message  \n",
              "0                                              привет  \n",
              "1                                             Привет!  \n",
              "2                         спасибо за мастер-класс! :)  \n",
              "3                              Отличный мастер-класс!  \n",
              "4                                                   😀  \n",
              "5                         Добрый день, уважаемый бот!  \n",
              "6                                     Новое сообщение  \n",
              "7                                        Мастер-класс  \n",
              "8                                                Help  \n",
              "9                                                   😝  \n",
              "10                           красный+жёлтый=оранжевый  \n",
              "11  Здравствуйте, мне очень нравится эта лекция. О...  \n",
              "12                                           Приветик  \n",
              "13                                      берёза-дерево  \n",
              "14                Какой умный бот, умнее, чем мой кот  "
            ],
            "text/html": [
              "\n",
              "  <div id=\"df-fd985129-2b11-421f-8474-6d71ddd0eb08\">\n",
              "    <div class=\"colab-df-container\">\n",
              "      <div>\n",
              "<style scoped>\n",
              "    .dataframe tbody tr th:only-of-type {\n",
              "        vertical-align: middle;\n",
              "    }\n",
              "\n",
              "    .dataframe tbody tr th {\n",
              "        vertical-align: top;\n",
              "    }\n",
              "\n",
              "    .dataframe thead th {\n",
              "        text-align: right;\n",
              "    }\n",
              "</style>\n",
              "<table border=\"1\" class=\"dataframe\">\n",
              "  <thead>\n",
              "    <tr style=\"text-align: right;\">\n",
              "      <th></th>\n",
              "      <th>id</th>\n",
              "      <th>first_name</th>\n",
              "      <th>last_name</th>\n",
              "      <th>nickname</th>\n",
              "      <th>message</th>\n",
              "    </tr>\n",
              "  </thead>\n",
              "  <tbody>\n",
              "    <tr>\n",
              "      <th>0</th>\n",
              "      <td>1800056730</td>\n",
              "      <td>Майя</td>\n",
              "      <td>Андреева</td>\n",
              "      <td>maystar77</td>\n",
              "      <td>привет</td>\n",
              "    </tr>\n",
              "    <tr>\n",
              "      <th>1</th>\n",
              "      <td>674649097</td>\n",
              "      <td>Анна</td>\n",
              "      <td>Сенина</td>\n",
              "      <td>avsenina</td>\n",
              "      <td>Привет!</td>\n",
              "    </tr>\n",
              "    <tr>\n",
              "      <th>2</th>\n",
              "      <td>377571930</td>\n",
              "      <td>Анастасия</td>\n",
              "      <td>Иваненко</td>\n",
              "      <td>AnastasiiaIvanenko</td>\n",
              "      <td>спасибо за мастер-класс! :)</td>\n",
              "    </tr>\n",
              "    <tr>\n",
              "      <th>3</th>\n",
              "      <td>958762914</td>\n",
              "      <td>Iliana</td>\n",
              "      <td>Ismakaeva</td>\n",
              "      <td>iismakaeva</td>\n",
              "      <td>Отличный мастер-класс!</td>\n",
              "    </tr>\n",
              "    <tr>\n",
              "      <th>4</th>\n",
              "      <td>674649097</td>\n",
              "      <td>Анна</td>\n",
              "      <td>Сенина</td>\n",
              "      <td>avsenina</td>\n",
              "      <td>😀</td>\n",
              "    </tr>\n",
              "    <tr>\n",
              "      <th>5</th>\n",
              "      <td>417443814</td>\n",
              "      <td>Никита</td>\n",
              "      <td>Маткин</td>\n",
              "      <td>armand_de_richelieu</td>\n",
              "      <td>Добрый день, уважаемый бот!</td>\n",
              "    </tr>\n",
              "    <tr>\n",
              "      <th>6</th>\n",
              "      <td>674649097</td>\n",
              "      <td>Анна</td>\n",
              "      <td>Сенина</td>\n",
              "      <td>avsenina</td>\n",
              "      <td>Новое сообщение</td>\n",
              "    </tr>\n",
              "    <tr>\n",
              "      <th>7</th>\n",
              "      <td>674649097</td>\n",
              "      <td>Анна</td>\n",
              "      <td>Сенина</td>\n",
              "      <td>avsenina</td>\n",
              "      <td>Мастер-класс</td>\n",
              "    </tr>\n",
              "    <tr>\n",
              "      <th>8</th>\n",
              "      <td>45195525</td>\n",
              "      <td>Nikita</td>\n",
              "      <td>Kushkin</td>\n",
              "      <td>SundanceKid78</td>\n",
              "      <td>Help</td>\n",
              "    </tr>\n",
              "    <tr>\n",
              "      <th>9</th>\n",
              "      <td>417443814</td>\n",
              "      <td>Никита</td>\n",
              "      <td>Маткин</td>\n",
              "      <td>armand_de_richelieu</td>\n",
              "      <td>😝</td>\n",
              "    </tr>\n",
              "    <tr>\n",
              "      <th>10</th>\n",
              "      <td>1088321102</td>\n",
              "      <td>Razilya</td>\n",
              "      <td>Sagirova</td>\n",
              "      <td>seviyorumka</td>\n",
              "      <td>красный+жёлтый=оранжевый</td>\n",
              "    </tr>\n",
              "    <tr>\n",
              "      <th>11</th>\n",
              "      <td>1073175113</td>\n",
              "      <td>Алена</td>\n",
              "      <td>Щукина</td>\n",
              "      <td>None</td>\n",
              "      <td>Здравствуйте, мне очень нравится эта лекция. О...</td>\n",
              "    </tr>\n",
              "    <tr>\n",
              "      <th>12</th>\n",
              "      <td>449933883</td>\n",
              "      <td>Anastasia</td>\n",
              "      <td>None</td>\n",
              "      <td>adudova</td>\n",
              "      <td>Приветик</td>\n",
              "    </tr>\n",
              "    <tr>\n",
              "      <th>13</th>\n",
              "      <td>1088321102</td>\n",
              "      <td>Razilya</td>\n",
              "      <td>Sagirova</td>\n",
              "      <td>seviyorumka</td>\n",
              "      <td>берёза-дерево</td>\n",
              "    </tr>\n",
              "    <tr>\n",
              "      <th>14</th>\n",
              "      <td>1800056730</td>\n",
              "      <td>Майя</td>\n",
              "      <td>Андреева</td>\n",
              "      <td>maystar77</td>\n",
              "      <td>Какой умный бот, умнее, чем мой кот</td>\n",
              "    </tr>\n",
              "  </tbody>\n",
              "</table>\n",
              "</div>\n",
              "      <button class=\"colab-df-convert\" onclick=\"convertToInteractive('df-fd985129-2b11-421f-8474-6d71ddd0eb08')\"\n",
              "              title=\"Convert this dataframe to an interactive table.\"\n",
              "              style=\"display:none;\">\n",
              "        \n",
              "  <svg xmlns=\"http://www.w3.org/2000/svg\" height=\"24px\"viewBox=\"0 0 24 24\"\n",
              "       width=\"24px\">\n",
              "    <path d=\"M0 0h24v24H0V0z\" fill=\"none\"/>\n",
              "    <path d=\"M18.56 5.44l.94 2.06.94-2.06 2.06-.94-2.06-.94-.94-2.06-.94 2.06-2.06.94zm-11 1L8.5 8.5l.94-2.06 2.06-.94-2.06-.94L8.5 2.5l-.94 2.06-2.06.94zm10 10l.94 2.06.94-2.06 2.06-.94-2.06-.94-.94-2.06-.94 2.06-2.06.94z\"/><path d=\"M17.41 7.96l-1.37-1.37c-.4-.4-.92-.59-1.43-.59-.52 0-1.04.2-1.43.59L10.3 9.45l-7.72 7.72c-.78.78-.78 2.05 0 2.83L4 21.41c.39.39.9.59 1.41.59.51 0 1.02-.2 1.41-.59l7.78-7.78 2.81-2.81c.8-.78.8-2.07 0-2.86zM5.41 20L4 18.59l7.72-7.72 1.47 1.35L5.41 20z\"/>\n",
              "  </svg>\n",
              "      </button>\n",
              "      \n",
              "  <style>\n",
              "    .colab-df-container {\n",
              "      display:flex;\n",
              "      flex-wrap:wrap;\n",
              "      gap: 12px;\n",
              "    }\n",
              "\n",
              "    .colab-df-convert {\n",
              "      background-color: #E8F0FE;\n",
              "      border: none;\n",
              "      border-radius: 50%;\n",
              "      cursor: pointer;\n",
              "      display: none;\n",
              "      fill: #1967D2;\n",
              "      height: 32px;\n",
              "      padding: 0 0 0 0;\n",
              "      width: 32px;\n",
              "    }\n",
              "\n",
              "    .colab-df-convert:hover {\n",
              "      background-color: #E2EBFA;\n",
              "      box-shadow: 0px 1px 2px rgba(60, 64, 67, 0.3), 0px 1px 3px 1px rgba(60, 64, 67, 0.15);\n",
              "      fill: #174EA6;\n",
              "    }\n",
              "\n",
              "    [theme=dark] .colab-df-convert {\n",
              "      background-color: #3B4455;\n",
              "      fill: #D2E3FC;\n",
              "    }\n",
              "\n",
              "    [theme=dark] .colab-df-convert:hover {\n",
              "      background-color: #434B5C;\n",
              "      box-shadow: 0px 1px 3px 1px rgba(0, 0, 0, 0.15);\n",
              "      filter: drop-shadow(0px 1px 2px rgba(0, 0, 0, 0.3));\n",
              "      fill: #FFFFFF;\n",
              "    }\n",
              "  </style>\n",
              "\n",
              "      <script>\n",
              "        const buttonEl =\n",
              "          document.querySelector('#df-fd985129-2b11-421f-8474-6d71ddd0eb08 button.colab-df-convert');\n",
              "        buttonEl.style.display =\n",
              "          google.colab.kernel.accessAllowed ? 'block' : 'none';\n",
              "\n",
              "        async function convertToInteractive(key) {\n",
              "          const element = document.querySelector('#df-fd985129-2b11-421f-8474-6d71ddd0eb08');\n",
              "          const dataTable =\n",
              "            await google.colab.kernel.invokeFunction('convertToInteractive',\n",
              "                                                     [key], {});\n",
              "          if (!dataTable) return;\n",
              "\n",
              "          const docLinkHtml = 'Like what you see? Visit the ' +\n",
              "            '<a target=\"_blank\" href=https://colab.research.google.com/notebooks/data_table.ipynb>data table notebook</a>'\n",
              "            + ' to learn more about interactive tables.';\n",
              "          element.innerHTML = '';\n",
              "          dataTable['output_type'] = 'display_data';\n",
              "          await google.colab.output.renderOutput(dataTable, element);\n",
              "          const docLink = document.createElement('div');\n",
              "          docLink.innerHTML = docLinkHtml;\n",
              "          element.appendChild(docLink);\n",
              "        }\n",
              "      </script>\n",
              "    </div>\n",
              "  </div>\n",
              "  "
            ]
          },
          "metadata": {},
          "execution_count": 40
        }
      ]
    },
    {
      "cell_type": "markdown",
      "source": [
        "## 3. Простой диалог: несколько веточек if-elif-else"
      ],
      "metadata": {
        "id": "ENDc2nCHymeG"
      }
    },
    {
      "cell_type": "markdown",
      "source": [
        "Ниже - пример бота, котрый я всегда показываю студентам как общий шаблон для if-elif-else\n",
        "\n",
        "Бот кажется разветвленным, но он очень линейный и простой, сейчас покопаемся в его коде"
      ],
      "metadata": {
        "id": "3D_4PfPhLubT"
      }
    },
    {
      "cell_type": "code",
      "source": [
        "# Для примера я использую картинку, ее можно скачать здесь: https://github.com/AnnSenina/Other/blob/main/when-should-i-start-to-worry-south-park.gif\n",
        "# Добавьте ее в среду слева\n",
        "# Важно! Поскольку в коде требуется картинка, если я ее не подгружу, бот сломается"
      ],
      "metadata": {
        "id": "V7mQny2Z0_5w"
      },
      "execution_count": null,
      "outputs": []
    },
    {
      "cell_type": "code",
      "source": [
        "# Обновите доступ через токен\n",
        "bot = telebot.TeleBot(your_bot)\n",
        "\n",
        "@bot.message_handler(commands=[\"start\"])\n",
        "def start(message):\n",
        "\n",
        "  # что произошло с командой старт: мы научим ее отправлять клавиатуру\n",
        "\n",
        "  markup=types.ReplyKeyboardMarkup(resize_keyboard=True) # опишем клавиатуру\n",
        "  item1=types.KeyboardButton(\"Помощь\") # кнопки\n",
        "  item2=types.KeyboardButton(\"Когда нужно начинать переживать?\")\n",
        "  item3=types.KeyboardButton(\"Идеи?\")\n",
        "  item4=types.KeyboardButton(\"Боты\")\n",
        "  item5=types.KeyboardButton(\"Игры\")\n",
        "  markup.row(item1) # расположение кнопок\n",
        "  markup.row(item3, item4, item5)\n",
        "  markup.row(item2)\n",
        "  bot.send_message(message.chat.id, 'Добрый день! Это пробный бот занятия. Давайте посмотрим, как это работает :)', reply_markup=markup)\n",
        "  # в конец команды старт приписали вывод клавиатуры, кусочек: , reply_markup=markup\n",
        "\n",
        "@bot.message_handler(content_types=[\"text\"])\n",
        "def handle_text(message):\n",
        "  if message.text.strip() == 'Помощь':\n",
        "    bot.send_message(message.chat.id, text1)\n",
        "    bot.send_message(message.chat.id, text2)\n",
        "    bot.send_message(message.chat.id, text3)\n",
        "    bot.send_message(message.chat.id, text4)\n",
        "    bot.send_message(message.chat.id, text5)\n",
        "    bot.send_message(message.chat.id, text6)\n",
        "\n",
        "  # выше старый фрагмент кода\n",
        "\n",
        "  elif message.text.strip() == 'Когда нужно начинать переживать?':\n",
        "    # научим бот отправлять гифку\n",
        "    img = open('when-should-i-start-to-worry-south-park.gif', 'rb')\n",
        "    bot.send_animation(message.chat.id, img)\n",
        "    # см. как отправить картинку, видео, аудио, стикер и многое другое: https://core.telegram.org/bots/api#animation\n",
        "    answer1 = 'Не нужно переживать! Вот статистика сдачи Python в 2021-2022 учебном году: \\nhttps://datastudio.google.com/reporting/62fc58aa-6cb0-4bb3-986b-5c6bd4bcf006 \\nМы точно справимся!'\n",
        "    answer2 = 'Есть и более актуальная статистика: Python-хакатон в системе оценивания историков осенью 2022 года: \\nhttps://lookerstudio.google.com/reporting/f729749e-4455-4bdd-9712-ca56118b1040'\n",
        "    bot.send_message(message.chat.id, answer1)\n",
        "    bot.send_message(message.chat.id, answer2)\n",
        "\n",
        "  elif message.text.strip() == 'Идеи?':\n",
        "    answer1 = 'Мой любимый тестик по истории тут: https://arzamas.academy/materials/835\\nОн очень вдохновляет! 😏'\n",
        "    answer2 = 'И еще один отличный пример - проект \"Карта истории\" - XX век: https://kartaistorii.ru/ \\nТам много интерактивных тестов!'\n",
        "    bot.send_message(message.chat.id, answer1)\n",
        "    bot.send_message(message.chat.id, answer2)\n",
        "\n",
        "  elif message.text.strip() == 'Боты':\n",
        "    answer = 'Вот так выглядит Python-реализация нашего бота: \\nhttps://bit.ly/botHSE_HomoDigitus'\n",
        "    bot.send_message(message.chat.id, answer)\n",
        "\n",
        "  elif message.text.strip() == 'Игры':\n",
        "    answer1 = 'Общие идеи по созданию своей игры - в тетрадке: \\nhttps://colab.research.google.com/drive/1bIfMrzV4-3yJO9MDLQu4jDIFIWH278ZE?usp=sharing\\nНо сегодня мы занимаемся ботами ^^.'\n",
        "    answer2 = 'Вот здесь я рассказываю об играх, которые программируют историки в Вышке: https://perm.hse.ru/news/695281687.html'\n",
        "    answer3 = 'А вот ссылка на файлы: https://bit.ly/gamesHSE \\nВы можете попробовать запустить игры дома, но для этого нужно сначала скачать и установить на компьютер RenPy: https://www.renpy.org/'\n",
        "    answer4 = 'Чтобы игра запустилась, скачайте, распакуйте папку с игрой, затем в RenPy зайдите в настройки и укажите путь до папки с игрой на вашем компьютере'\n",
        "    answer5 = 'А если не запустилось, но очень хочется, напишите мне в телеграм: @avsenina'\n",
        "    bot.send_message(message.chat.id, answer1)\n",
        "    bot.send_message(message.chat.id, answer2)\n",
        "    bot.send_message(message.chat.id, answer3)\n",
        "    bot.send_message(message.chat.id, answer4)\n",
        "    bot.send_message(message.chat.id, answer5)\n",
        "\n",
        "  else:\n",
        "    bot.send_message(message.chat.id, text7)\n",
        "\n",
        "# Запускаем бота\n",
        "bot.polling(none_stop=True, interval=0)"
      ],
      "metadata": {
        "id": "8tJhh-mectV9"
      },
      "execution_count": null,
      "outputs": []
    },
    {
      "cell_type": "markdown",
      "source": [
        "### Еще бонус: можно показывать красивые короткие ссылки:"
      ],
      "metadata": {
        "id": "gSOtFuxTSG2O"
      }
    },
    {
      "cell_type": "code",
      "source": [
        "bot = telebot.TeleBot(your_bot)\n",
        "\n",
        "@bot.message_handler(commands=[\"start\"])\n",
        "def start(message):\n",
        "  bot.send_message(message.chat.id, 'Как отправлять красивые ссылки?\\nВы можете найти документацию [здесь](https://core.telegram.org/bots/api#formatting-options)!', parse_mode=\"Markdown\")\n",
        "\n",
        "bot.polling(none_stop=True, interval=0)\n",
        "\n",
        "# Бот пришлет: ...найти документацию здесь - и слово \"здесь\" будет кликабельным! Никаких километровых ссылок\n",
        "# В основе - разметка Markdown\n",
        "# Описание работы в документации телеграма: https://core.telegram.org/bots/api#formatting-options"
      ],
      "metadata": {
        "id": "wzL4Pr5cSOh0"
      },
      "execution_count": null,
      "outputs": []
    },
    {
      "cell_type": "markdown",
      "source": [
        "# 4. Бот-рандомайзер\n",
        "\n",
        "randint — сгенерировать целое число в заданном диапазоне\n",
        "\n",
        "choice — выбрать случайный элемент из заданного набора"
      ],
      "metadata": {
        "id": "IvLWFagmTMe6"
      }
    },
    {
      "cell_type": "markdown",
      "source": [
        "### Случайное предложение / цитата"
      ],
      "metadata": {
        "id": "EvTMr3nTWFvE"
      }
    },
    {
      "cell_type": "code",
      "source": [
        "sentences = '''Марафон Homo Digitus будет веселым!\n",
        "Надеемся, что встречи марафона - полезные\n",
        "Поступайте в нашу [магистратуру](https://perm.hse.ru/ma/digitalhum/)!\n",
        "Будем рады встретиться на конференционной секции ❤️\n",
        "Благодарим за участие!'''\n",
        "\n",
        "sentences"
      ],
      "metadata": {
        "id": "lZaXs-o1TQfB"
      },
      "execution_count": null,
      "outputs": []
    },
    {
      "cell_type": "code",
      "source": [
        "sentences.split('\\n') # разрежем по переносу строки"
      ],
      "metadata": {
        "id": "cJnwVs9PUdf2"
      },
      "execution_count": null,
      "outputs": []
    },
    {
      "cell_type": "code",
      "source": [
        "import random # импоритируем библиотеку для работы со случайностями :)\n",
        "print(random.choice(sentences.split('\\n')))"
      ],
      "metadata": {
        "id": "JcWvwEYrU0x3"
      },
      "execution_count": null,
      "outputs": []
    },
    {
      "cell_type": "code",
      "source": [
        "# научим бот выдавать случайное предложение\n",
        "bot = telebot.TeleBot(your_bot)\n",
        "\n",
        "@bot.message_handler(commands=[\"start\"])\n",
        "def start(message):\n",
        "  bot.send_message(message.chat.id, 'Вас приветствует бот марафона! В ответ на ЛЮБОЕ ваше сообщение, он будет отправлять случайное предложение из следующих: \\n\\n' + sentences, parse_mode=\"Markdown\")\n",
        "\n",
        "@bot.message_handler(content_types=[\"text\"])\n",
        "def handle_text(message):\n",
        "  bot.send_message(message.chat.id, random.choice(sentences.split('\\n')), parse_mode=\"Markdown\")\n",
        "\n",
        "bot.polling(none_stop=True, interval=0)"
      ],
      "metadata": {
        "id": "CISednWoUpv6"
      },
      "execution_count": null,
      "outputs": []
    },
    {
      "cell_type": "markdown",
      "source": [
        "### Давайте сделаем его чуть умнее и научим показывать кнопку \"Напечатай предложение!\""
      ],
      "metadata": {
        "id": "KCdFcQH5WKcd"
      }
    },
    {
      "cell_type": "code",
      "source": [
        "bot = telebot.TeleBot(your_bot)\n",
        "\n",
        "@bot.message_handler(commands=[\"start\"])\n",
        "def start(message):\n",
        "  markup=types.ReplyKeyboardMarkup(resize_keyboard=True) # опишем клавиатуру\n",
        "  item1=types.KeyboardButton(\"Напечатай предложение!\") # кнопки\n",
        "  markup.row(item1) # расположение кнопок\n",
        "  bot.send_message(message.chat.id, 'Вас приветствует бот марафона! Бот будет отправлять случайное предложение из следующих: \\n\\n' + sentences, parse_mode=\"Markdown\", reply_markup=markup)\n",
        "\n",
        "@bot.message_handler(content_types=[\"text\"])\n",
        "def handle_text(message):\n",
        "  if message.text.strip() == \"Напечатай предложение!\":\n",
        "    bot.send_message(message.chat.id, random.choice(sentences.split('\\n')), parse_mode=\"Markdown\")\n",
        "\n",
        "bot.polling(none_stop=True, interval=0)"
      ],
      "metadata": {
        "id": "0TuFNgYbWTgd"
      },
      "execution_count": null,
      "outputs": []
    },
    {
      "cell_type": "markdown",
      "source": [
        "### Для давних знакомых: случайное определение DH\n",
        "\n",
        "C сайта [What Is Digital Humanities?](https://whatisdigitalhumanities.com/)"
      ],
      "metadata": {
        "id": "HJYsd_75X0OZ"
      }
    },
    {
      "cell_type": "code",
      "source": [
        "import pandas as pd\n",
        "dh = pd.read_csv('https://raw.githubusercontent.com/hepplerj/whatisdigitalhumanities/master/dayofquotes_full.csv')\n",
        "dh.head()"
      ],
      "metadata": {
        "colab": {
          "base_uri": "https://localhost:8080/",
          "height": 206
        },
        "id": "IF6bcjvcYG2z",
        "outputId": "456b93b3-1642-437e-a92c-bb6c0dd677d8"
      },
      "execution_count": null,
      "outputs": [
        {
          "output_type": "execute_result",
          "data": {
            "text/plain": [
              "                                               quote               name  \\\n",
              "0  The thoughtful use of computing in humanistic ...  Geoffrey Rockwell   \n",
              "1  Digital humanities is the use of advanced digi...        Micki McGee   \n",
              "2  Researchers working with digital materials, to...       Stan Ruecker   \n",
              "3  All the ways that the humanities and digital t...      Rebecca Davis   \n",
              "4  Digital Humanities is the use of digital techn...     Michael Widner   \n",
              "\n",
              "         date  \n",
              "0  2012-01-01  \n",
              "1  2012-01-01  \n",
              "2  2012-01-01  \n",
              "3  2012-01-01  \n",
              "4  2012-01-01  "
            ],
            "text/html": [
              "\n",
              "  <div id=\"df-819cbd05-a9dd-4078-8424-44f6a7aded8f\">\n",
              "    <div class=\"colab-df-container\">\n",
              "      <div>\n",
              "<style scoped>\n",
              "    .dataframe tbody tr th:only-of-type {\n",
              "        vertical-align: middle;\n",
              "    }\n",
              "\n",
              "    .dataframe tbody tr th {\n",
              "        vertical-align: top;\n",
              "    }\n",
              "\n",
              "    .dataframe thead th {\n",
              "        text-align: right;\n",
              "    }\n",
              "</style>\n",
              "<table border=\"1\" class=\"dataframe\">\n",
              "  <thead>\n",
              "    <tr style=\"text-align: right;\">\n",
              "      <th></th>\n",
              "      <th>quote</th>\n",
              "      <th>name</th>\n",
              "      <th>date</th>\n",
              "    </tr>\n",
              "  </thead>\n",
              "  <tbody>\n",
              "    <tr>\n",
              "      <th>0</th>\n",
              "      <td>The thoughtful use of computing in humanistic ...</td>\n",
              "      <td>Geoffrey Rockwell</td>\n",
              "      <td>2012-01-01</td>\n",
              "    </tr>\n",
              "    <tr>\n",
              "      <th>1</th>\n",
              "      <td>Digital humanities is the use of advanced digi...</td>\n",
              "      <td>Micki McGee</td>\n",
              "      <td>2012-01-01</td>\n",
              "    </tr>\n",
              "    <tr>\n",
              "      <th>2</th>\n",
              "      <td>Researchers working with digital materials, to...</td>\n",
              "      <td>Stan Ruecker</td>\n",
              "      <td>2012-01-01</td>\n",
              "    </tr>\n",
              "    <tr>\n",
              "      <th>3</th>\n",
              "      <td>All the ways that the humanities and digital t...</td>\n",
              "      <td>Rebecca Davis</td>\n",
              "      <td>2012-01-01</td>\n",
              "    </tr>\n",
              "    <tr>\n",
              "      <th>4</th>\n",
              "      <td>Digital Humanities is the use of digital techn...</td>\n",
              "      <td>Michael Widner</td>\n",
              "      <td>2012-01-01</td>\n",
              "    </tr>\n",
              "  </tbody>\n",
              "</table>\n",
              "</div>\n",
              "      <button class=\"colab-df-convert\" onclick=\"convertToInteractive('df-819cbd05-a9dd-4078-8424-44f6a7aded8f')\"\n",
              "              title=\"Convert this dataframe to an interactive table.\"\n",
              "              style=\"display:none;\">\n",
              "        \n",
              "  <svg xmlns=\"http://www.w3.org/2000/svg\" height=\"24px\"viewBox=\"0 0 24 24\"\n",
              "       width=\"24px\">\n",
              "    <path d=\"M0 0h24v24H0V0z\" fill=\"none\"/>\n",
              "    <path d=\"M18.56 5.44l.94 2.06.94-2.06 2.06-.94-2.06-.94-.94-2.06-.94 2.06-2.06.94zm-11 1L8.5 8.5l.94-2.06 2.06-.94-2.06-.94L8.5 2.5l-.94 2.06-2.06.94zm10 10l.94 2.06.94-2.06 2.06-.94-2.06-.94-.94-2.06-.94 2.06-2.06.94z\"/><path d=\"M17.41 7.96l-1.37-1.37c-.4-.4-.92-.59-1.43-.59-.52 0-1.04.2-1.43.59L10.3 9.45l-7.72 7.72c-.78.78-.78 2.05 0 2.83L4 21.41c.39.39.9.59 1.41.59.51 0 1.02-.2 1.41-.59l7.78-7.78 2.81-2.81c.8-.78.8-2.07 0-2.86zM5.41 20L4 18.59l7.72-7.72 1.47 1.35L5.41 20z\"/>\n",
              "  </svg>\n",
              "      </button>\n",
              "      \n",
              "  <style>\n",
              "    .colab-df-container {\n",
              "      display:flex;\n",
              "      flex-wrap:wrap;\n",
              "      gap: 12px;\n",
              "    }\n",
              "\n",
              "    .colab-df-convert {\n",
              "      background-color: #E8F0FE;\n",
              "      border: none;\n",
              "      border-radius: 50%;\n",
              "      cursor: pointer;\n",
              "      display: none;\n",
              "      fill: #1967D2;\n",
              "      height: 32px;\n",
              "      padding: 0 0 0 0;\n",
              "      width: 32px;\n",
              "    }\n",
              "\n",
              "    .colab-df-convert:hover {\n",
              "      background-color: #E2EBFA;\n",
              "      box-shadow: 0px 1px 2px rgba(60, 64, 67, 0.3), 0px 1px 3px 1px rgba(60, 64, 67, 0.15);\n",
              "      fill: #174EA6;\n",
              "    }\n",
              "\n",
              "    [theme=dark] .colab-df-convert {\n",
              "      background-color: #3B4455;\n",
              "      fill: #D2E3FC;\n",
              "    }\n",
              "\n",
              "    [theme=dark] .colab-df-convert:hover {\n",
              "      background-color: #434B5C;\n",
              "      box-shadow: 0px 1px 3px 1px rgba(0, 0, 0, 0.15);\n",
              "      filter: drop-shadow(0px 1px 2px rgba(0, 0, 0, 0.3));\n",
              "      fill: #FFFFFF;\n",
              "    }\n",
              "  </style>\n",
              "\n",
              "      <script>\n",
              "        const buttonEl =\n",
              "          document.querySelector('#df-819cbd05-a9dd-4078-8424-44f6a7aded8f button.colab-df-convert');\n",
              "        buttonEl.style.display =\n",
              "          google.colab.kernel.accessAllowed ? 'block' : 'none';\n",
              "\n",
              "        async function convertToInteractive(key) {\n",
              "          const element = document.querySelector('#df-819cbd05-a9dd-4078-8424-44f6a7aded8f');\n",
              "          const dataTable =\n",
              "            await google.colab.kernel.invokeFunction('convertToInteractive',\n",
              "                                                     [key], {});\n",
              "          if (!dataTable) return;\n",
              "\n",
              "          const docLinkHtml = 'Like what you see? Visit the ' +\n",
              "            '<a target=\"_blank\" href=https://colab.research.google.com/notebooks/data_table.ipynb>data table notebook</a>'\n",
              "            + ' to learn more about interactive tables.';\n",
              "          element.innerHTML = '';\n",
              "          dataTable['output_type'] = 'display_data';\n",
              "          await google.colab.output.renderOutput(dataTable, element);\n",
              "          const docLink = document.createElement('div');\n",
              "          docLink.innerHTML = docLinkHtml;\n",
              "          element.appendChild(docLink);\n",
              "        }\n",
              "      </script>\n",
              "    </div>\n",
              "  </div>\n",
              "  "
            ]
          },
          "metadata": {},
          "execution_count": 53
        }
      ]
    },
    {
      "cell_type": "code",
      "source": [
        "random.choice(dh['quote'])"
      ],
      "metadata": {
        "id": "w__kD9KSYyZ6"
      },
      "execution_count": null,
      "outputs": []
    },
    {
      "cell_type": "code",
      "source": [
        "# модифицируем прошлый код:\n",
        "\n",
        "bot = telebot.TeleBot(your_bot)\n",
        "\n",
        "@bot.message_handler(commands=[\"start\"])\n",
        "def start(message):\n",
        "  markup=types.ReplyKeyboardMarkup(resize_keyboard=True) # опишем клавиатуру\n",
        "  item1=types.KeyboardButton(\"Хочу определение DH!\") # кнопки\n",
        "  markup.row(item1) # расположение кнопок\n",
        "  bot.send_message(message.chat.id, 'Вас приветствует бот марафона! Бот будет отправлять случайное определение Digital Humanities с сайта https://whatisdigitalhumanities.com/', reply_markup=markup)\n",
        "\n",
        "@bot.message_handler(content_types=[\"text\"])\n",
        "def handle_text(message):\n",
        "  if message.text.strip() == \"Хочу определение DH!\":\n",
        "    bot.send_message(message.chat.id, random.choice(dh['quote']))\n",
        "\n",
        "bot.polling(none_stop=True, interval=0)"
      ],
      "metadata": {
        "id": "tlIEkJ0SYL75"
      },
      "execution_count": null,
      "outputs": []
    },
    {
      "cell_type": "markdown",
      "source": [
        "### Для моих студентов направления Дизайн...\n",
        "\n",
        "Для примера работы питонских функций, я программировала генератор утят"
      ],
      "metadata": {
        "id": "Yr3ZD7HfZtxD"
      }
    },
    {
      "cell_type": "code",
      "source": [
        "# утята отсюда: https://inventwithpython.com/bigbookpython/project22.html\n",
        ">\" )   =^^)    (``=   (\"=  >\")    (\"=\n",
        "(  >)  (  ^)  (v  )  (^ )  ( >)  (v )\n",
        " ^ ^    ^ ^    ^ ^    ^^    ^^    ^^\n",
        "# но я упростила..."
      ],
      "metadata": {
        "id": "RifaJELmZ6Ai"
      },
      "execution_count": null,
      "outputs": []
    },
    {
      "cell_type": "code",
      "source": [
        "import random\n",
        "\n",
        "a = [' >\" )', ' =^^)', ' (``=', ' (\"=', ' >\")', ' (\"=']\n",
        "b = ['(  >)', '(  ^)', '(v  )', '(^ )', '( >)', '(v )']\n",
        "c = [' ^ ^ ', '  ^^ ', '  ^^']\n",
        "\n",
        "def duck(): # генерируются 2 утенка в 1 строку\n",
        "  n = random.randint(0, 25)\n",
        "  k = random.randint(26, 50)\n",
        "  print(' ' * n, random.choice(a), ' ' * k, random.choice(a))\n",
        "  print(' ' * n, random.choice(b), ' ' * k, random.choice(b))\n",
        "  print(' ' * n, random.choice(c), ' ' * k, random.choice(c))\n",
        "\n",
        "def count_duck(): # выбирает от 2 до 4 строк\n",
        "  m = random.randint(2, 4)\n",
        "  for i in range(m):\n",
        "    duck()\n",
        "\n",
        "count_duck()\n",
        "\n",
        "# проблема в том, что эта функция красиво работает в колабе, но не сохраняет результат работы (=только показывает на экране)"
      ],
      "metadata": {
        "id": "FKeGSQsGa_YZ"
      },
      "execution_count": null,
      "outputs": []
    },
    {
      "cell_type": "code",
      "source": [
        "# придется немножко модифицировать функцию\n",
        "# почему: вместо команды print у нас bot.send_message - есть небольшие отличия\n",
        "# научим функцию сохранять утят в строку через return (и использовать позже полученный результат!)\n",
        "\n",
        "import random\n",
        "\n",
        "a = [' >\" )', ' =^^)', ' (``=', ' (\"=', ' >\")', ' (\"=']\n",
        "b = ['(  >)', '(  ^)', '(v  )', '(^ )', '( >)', '(v )']\n",
        "c = [' ^ ^ ', '  ^^ ', '  ^^']\n",
        "\n",
        "def duck(): # генерируются 3 утенка в 1 строку\n",
        "  n = random.randint(0, 25)\n",
        "  k = random.randint(26, 50)\n",
        "  one_duck = random.choice(a) + ' ' * k + random.choice(a) + ' ' * n + random.choice(a) +'\\n' +\\\n",
        "  random.choice(b) + ' ' * k + random.choice(b) + ' ' * n + random.choice(b) + '\\n' +\\\n",
        "  random.choice(c) + ' ' * k + random.choice(c) + ' ' * n + random.choice(c) + '\\n'\n",
        "  return one_duck\n",
        "\n",
        "print(duck())"
      ],
      "metadata": {
        "id": "RCGLBMm_Z93e"
      },
      "execution_count": null,
      "outputs": []
    },
    {
      "cell_type": "code",
      "source": [
        "# модифицируем прошлый код:\n",
        "\n",
        "bot = telebot.TeleBot(your_bot)\n",
        "\n",
        "@bot.message_handler(commands=[\"start\"])\n",
        "def start(message):\n",
        "  markup=types.ReplyKeyboardMarkup(resize_keyboard=True) # опишем клавиатуру\n",
        "  item1=types.KeyboardButton(\"Отправь 🦆\") # кнопки\n",
        "  markup.row(item1) # расположение кнопок\n",
        "  bot.send_message(message.chat.id, 'Вас приветствует бот марафона! Бот будет отправлять утят по вашему запросу', reply_markup=markup)\n",
        "\n",
        "@bot.message_handler(content_types=[\"text\"])\n",
        "def handle_text(message):\n",
        "  if message.text == \"Отправь 🦆\":\n",
        "    bot.send_message(message.chat.id, duck())\n",
        "\n",
        "bot.polling(none_stop=True, interval=0)"
      ],
      "metadata": {
        "id": "0FnNtWvRaRkM"
      },
      "execution_count": null,
      "outputs": []
    },
    {
      "cell_type": "markdown",
      "source": [
        "## 5. Сложный бот - разветвленный диалог"
      ],
      "metadata": {
        "id": "n7SerznzfSrg"
      }
    },
    {
      "cell_type": "markdown",
      "source": [
        "Обычно это происходит, когда ваш бот ждет несколько одинаковых ответов (хотя ситуации бывают разные)\n",
        "\n",
        "Например:\n",
        "- Хотите ли вы учиться у нас?\n",
        "- Да\n",
        "- Нужна ли ссылка с описанием магистратуры?\n",
        "- Да\n",
        "- Отправляем!\n",
        "\n",
        "- Нет\n",
        "- Тогда посмотрите на нашу программу постдоков\n",
        "\n",
        "Бот не поймет, на какой вопрос отвечает пользователь, отправляя \"Да\"\n",
        "\n"
      ],
      "metadata": {
        "id": "ov2GNMaef3KC"
      }
    },
    {
      "cell_type": "code",
      "source": [
        "bot = telebot.TeleBot(your_bot)\n",
        "\n",
        "@bot.message_handler(commands=[\"start\"])\n",
        "def start(message, res=False):\n",
        "  bot.send_message(message.chat.id, 'Бот расскажет о нескольких вариантах вхождения в нашу команду!\\nХотите ли вы учиться у нас в магистратуре?')\n",
        "\n",
        "@bot.message_handler(content_types=[\"text\"])\n",
        "def handle_text(message):\n",
        "  if message.text.strip() == 'Да':\n",
        "    bot.send_message(message.chat.id, 'Прислать вам ссылку на нашу программу?')\n",
        "    #бот ждет ответ пользователя и вызывает функцию\n",
        "    bot.register_next_step_handler(message, next_question) # добавили вызов функии, ждем...\n",
        "  else:\n",
        "    bot.send_message(message.chat.id, 'Тогда посмотрите на нашу программу постдоков: https://postdocru.hse.ru/projects2023\\nПрямо сейчас мы ищем специалиста по земской истории в проект \"Земства в социокультурной трансформации Российской империи во второй половине XIX - начале XX в.\"')\n",
        "    bot.send_message(message.chat.id, 'А еще к нам можно приехать на стажировку: https://internship.hse.ru. Welcome!')\n",
        "\n",
        "# дополнительные вопросы будет принимать функция\n",
        "def next_question(message):\n",
        "  if message.text.strip() == 'Да':\n",
        "    bot.send_message(message.chat.id, 'Отправляем! https://perm.hse.ru/ma/digitalhum')\n",
        "\n",
        "bot.polling(none_stop=True, interval=0)"
      ],
      "metadata": {
        "id": "J9_DxPiZfYiP"
      },
      "execution_count": null,
      "outputs": []
    },
    {
      "cell_type": "markdown",
      "source": [
        "### Бонус - работа студентов: игра про революцию 1917 года в коде\n",
        "\n",
        "Ссылка на [код](https://colab.research.google.com/drive/1SwnMdyKH-OG477J0EJiK3urJ8t5P-4tp?usp=sharing)"
      ],
      "metadata": {
        "id": "lM8d_C5XibQl"
      }
    },
    {
      "cell_type": "markdown",
      "source": [
        "# Задание на мастер-классе:\n",
        "\n",
        "Программируем бота! Бот может быть посвящен любой теме.\n",
        "\n",
        "Технические требования:\n",
        "\n",
        "* прописано приветствие\n",
        "* есть несколько веточек диалога с использованием if - elif - else\n",
        "* бот корректно отправляет сообщения в каждой веточке\n",
        "\n",
        "Дополнительно:\n",
        "\n",
        "* бот можно сделать более интерактивным, использовав выбор случайного ответа из списка заданных\n",
        "\n",
        "* можно (но не обязательно) добавить кнопки клавиатуры - если кнопок нет, убедитесь, что бот объясняет пользователю, каких ответов ждет\n",
        "\n",
        "* попробуйте научить бота отправлять ваши файлы: картинки / видео и мн.другое\n",
        "\n",
        "* было бы полезно предобработать ответы пользователя: привести буквы к нижнему регистру, удалить пунктуацию в конце строки и т.д.\n",
        "\n",
        "* сложное: бот с многоуровненым диалогом - функция-обработчик сообщений"
      ],
      "metadata": {
        "id": "o6V4AQvqQ_Fp"
      }
    },
    {
      "cell_type": "code",
      "source": [
        "# Простой шаблон для ваших идей\n",
        "\n",
        "bot = telebot.TeleBot(your_bot) # обновим токен\n",
        "\n",
        "@bot.message_handler(commands=[\"start\"])\n",
        "def start(message):\n",
        "  bot.send_message(message.chat.id, \"Приветствие\") # можно поменять текст\n",
        "\n",
        "@bot.message_handler(content_types=[\"text\"])\n",
        "def handle_text(message):\n",
        "  # bot.send_message(message.chat.id, \"Сообщение, которое бот присылает всегда, вне зависимости от ответа пользователя\")\n",
        "  # если не нужно, поставьте перед ним #, и питон будет его пропускать\n",
        "\n",
        "  if message.text.strip() == 'Сообщение пользователя':\n",
        "    bot.send_message(message.chat.id, 'Ответ бота')\n",
        "\n",
        "  elif message.text.strip() == 'Другое сообщение пользователя':\n",
        "    bot.send_message(message.chat.id, 'Ответ бота')\n",
        "\n",
        "  else:\n",
        "    bot.send_message(message.chat.id, 'Ответ бота, если ничего из if - elif не подошло')\n",
        "\n",
        "bot.polling(none_stop=True, interval=0) # запускаем бота"
      ],
      "metadata": {
        "id": "iZnMoukbtW86"
      },
      "execution_count": null,
      "outputs": []
    }
  ]
}