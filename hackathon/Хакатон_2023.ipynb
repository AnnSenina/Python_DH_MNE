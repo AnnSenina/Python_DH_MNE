{
  "nbformat": 4,
  "nbformat_minor": 0,
  "metadata": {
    "colab": {
      "provenance": [],
      "authorship_tag": "ABX9TyOc+wrniG5WfYpcv1UWxL2y",
      "include_colab_link": true
    },
    "kernelspec": {
      "name": "python3",
      "display_name": "Python 3"
    },
    "language_info": {
      "name": "python"
    }
  },
  "cells": [
    {
      "cell_type": "markdown",
      "metadata": {
        "id": "view-in-github",
        "colab_type": "text"
      },
      "source": [
        "<a href=\"https://colab.research.google.com/github/AnnSenina/Python_DH_MNE/blob/main/hackathon/%D0%A5%D0%B0%D0%BA%D0%B0%D1%82%D0%BE%D0%BD_2023.ipynb\" target=\"_parent\"><img src=\"https://colab.research.google.com/assets/colab-badge.svg\" alt=\"Open In Colab\"/></a>"
      ]
    },
    {
      "cell_type": "markdown",
      "source": [
        "#Анализ данных на Python 2023\n",
        "\n",
        "Это блокнот для учебного хакатона. До конца занятий обязательно загрузите этот файл в SmartLMS (1 файл от группы)"
      ],
      "metadata": {
        "id": "1XyeCUzsXvDL"
      }
    },
    {
      "cell_type": "markdown",
      "source": [
        "Впишите ФИО участников команды здесь:\n",
        "\n",
        "1.   \n",
        "2.   \n",
        "3.\n",
        "\n",
        "А также впишите название выбранного кейса:"
      ],
      "metadata": {
        "id": "E2mPC4BbYDKL"
      }
    },
    {
      "cell_type": "markdown",
      "source": [
        "### Подсказки без pandas (читаем построчно)"
      ],
      "metadata": {
        "id": "In3rEo4n7NL4"
      }
    },
    {
      "cell_type": "markdown",
      "source": [
        "Далее вас ждет несколько подсказок:\n",
        "\n",
        "открытие файла:\n",
        "\n",
        "    with open(файл.расширение, режим, кодировка) as название_переменной:\n",
        "        tab\n",
        "        # часто можно указать только название файла, без режима и кодировки\n",
        "\n",
        "Чтобы считать файл и далее работать с данными, используйте списки!\n",
        "\n",
        "Самый удобный вариант: считать строки в файле как СПИСОК СПИСКОВ (зачем: тогда вы сможете их легко перебирать двойной индексацией)\n",
        "\n",
        "    for i in название_переменной(файл):\n",
        "        пустой_список.append(i.strip().split(','))\n",
        "\n",
        "Двойная индексация:\n",
        "\n",
        "    список[0][0] # чтобы обратиться к значению одной ячейки таблицы\n",
        "\n",
        "Напоминаю также, что перебирать можно не по объектам, а по индексам (напр., для изменения типа данных, удаления лишних символов и т.д.):\n",
        "\n",
        "    for i in range(len(название_переменной)):\n",
        "        print(i)\n",
        "    # напечатается 1, 2, 3......\n"
      ],
      "metadata": {
        "id": "yV71r_gbYJcq"
      }
    },
    {
      "cell_type": "code",
      "execution_count": null,
      "metadata": {
        "id": "ywFIb1OdXtPb"
      },
      "outputs": [],
      "source": [
        "# пример!\n",
        "# пусть у вас есть данные о людях и их домашних питомцах\n",
        "people = [['Male', 'Cat'], ['Female', 'Dog'], ['Male', 'Dog'], ['Male', 'Fish'], ['Female', 'Dog'], ['Male', 'Cat']]\n",
        "# сколько у вас всего людей?\n",
        "print(len(people))\n",
        "# проверьте, связан ли гендер с домашним питомцем?\n",
        "m = []\n",
        "f = []\n",
        "for i in people:\n",
        "  if i[0] == 'Male':\n",
        "    m.append(i[1])\n",
        "  else:\n",
        "    f.append(i[1])\n",
        "print(m)\n",
        "print(f)\n",
        "\n",
        "# а какие типы домашних питомцев вообще представлены?\n",
        "s = set(m + f)\n",
        "print(s)\n",
        "\n",
        "# проверяем для мужчин:\n",
        "print('Male')\n",
        "for i in s:\n",
        "  print(i, m.count(i))\n",
        "\n",
        "# для женщин\n",
        "print('Female')\n",
        "for i in s:\n",
        "  print(i, f.count(i))\n",
        "\n",
        "# а можно еще и продемонстрировать владение сортировкой!\n",
        "print('Male')\n",
        "male_for_sort = []\n",
        "for i in s:\n",
        "  l = []\n",
        "  l.append(i)\n",
        "  l.append(m.count(i))\n",
        "  male_for_sort.append(l)\n",
        "print(sorted(male_for_sort))\n",
        "\n",
        "# давайте отсортируем по числу, например:\n",
        "male_for_sort.sort(key=lambda x: x[1], reverse=True)\n",
        "print(male_for_sort)\n",
        "# для сортировки мы использовали в качества ключа (= правила сортировки) безымянную (лямбда)-функцию"
      ]
    },
    {
      "cell_type": "markdown",
      "source": [
        "## Подсказки с pandas\n",
        "\n",
        "Открываем файл"
      ],
      "metadata": {
        "id": "fu7k9Ylx7S9X"
      }
    },
    {
      "cell_type": "code",
      "source": [
        "import pandas as pd\n",
        "\n",
        "df = pd.read_csv(\"название.расширение\")\n",
        "\n",
        "# иногда разделитель файла отличается от запятой, проверьте файл и поставьте правильный\n",
        "# например\n",
        "df = pd.read_csv(\"название.расширение\", sep=\";\")"
      ],
      "metadata": {
        "id": "uTMrfKgG7VEC"
      },
      "execution_count": null,
      "outputs": []
    },
    {
      "cell_type": "markdown",
      "source": [
        "Простые шаги в pandas"
      ],
      "metadata": {
        "id": "_TSzbCqV7rEu"
      }
    },
    {
      "cell_type": "code",
      "source": [
        "df[\"столбец\"] # так вы сможете выбрать интересный столбик\n",
        "df[\"столбец\"].value_counts() # построит частотную таблицу"
      ],
      "metadata": {
        "id": "7A3FkXyS7m-N"
      },
      "execution_count": null,
      "outputs": []
    },
    {
      "cell_type": "code",
      "source": [
        "# для числовых столбцов\n",
        "df[\"столбец\"].max()\n",
        "df[\"столбец\"].min()\n",
        "df[\"столбец\"].mean() # среднее арифметическое\n",
        "# или df[\"столбец\"].sum() / len(df[\"столбец\"])"
      ],
      "metadata": {
        "id": "qBm0zLTy76jB"
      },
      "execution_count": null,
      "outputs": []
    },
    {
      "cell_type": "code",
      "source": [
        "# можно вывести все статистики разом\n",
        "df.describe()\n",
        "\n",
        "# или к конкретному столбцу\n",
        "df[\"столбец\"].describe()"
      ],
      "metadata": {
        "id": "5uwyNILkT0Z9"
      },
      "execution_count": null,
      "outputs": []
    },
    {
      "cell_type": "code",
      "source": [
        "# фильтры\n",
        "df[   df[\"столбец\"]  >  100   ]\n",
        "df[   df[\"столбец\"]  == \"Male\"   ]\n",
        "\n",
        "# в результате получается новая табличка с отфильтрованными значениями"
      ],
      "metadata": {
        "id": "_PYwiGFS8OVl"
      },
      "execution_count": null,
      "outputs": []
    },
    {
      "cell_type": "code",
      "source": [
        "df[   df[\"столбец\"]  >  100   ][\"столбец2\"].value_counts()"
      ],
      "metadata": {
        "id": "WkVLg1938bv-"
      },
      "execution_count": null,
      "outputs": []
    },
    {
      "cell_type": "code",
      "source": [
        "# есть специальные методы для нахождения уникальных значений, но использовать стандартные питонские тоже можно\n",
        "set(df[\"столбец\"])"
      ],
      "metadata": {
        "id": "0lvB6hIz8g4r"
      },
      "execution_count": null,
      "outputs": []
    },
    {
      "cell_type": "code",
      "source": [
        "# вы также в любой момент можете перебрать столбец циклом for, если нужно\n",
        "for i in df[\"столбец\"]:\n",
        "  print(i)"
      ],
      "metadata": {
        "id": "AhfqqbdK9NKu"
      },
      "execution_count": null,
      "outputs": []
    },
    {
      "cell_type": "markdown",
      "source": [
        "# Ваше решение ниже:"
      ],
      "metadata": {
        "id": "OewpjgKesSOH"
      }
    },
    {
      "cell_type": "code",
      "source": [],
      "metadata": {
        "id": "ZwudXAg7h3ME"
      },
      "execution_count": null,
      "outputs": []
    },
    {
      "cell_type": "code",
      "source": [],
      "metadata": {
        "id": "fskinrZoS-Gh"
      },
      "execution_count": null,
      "outputs": []
    },
    {
      "cell_type": "code",
      "source": [],
      "metadata": {
        "id": "w1voJfO7S992"
      },
      "execution_count": null,
      "outputs": []
    },
    {
      "cell_type": "code",
      "source": [],
      "metadata": {
        "id": "zMmYLHt5S935"
      },
      "execution_count": null,
      "outputs": []
    },
    {
      "cell_type": "code",
      "source": [],
      "metadata": {
        "id": "LxHLr0zjS9w2"
      },
      "execution_count": null,
      "outputs": []
    }
  ]
}